{
 "cells": [
  {
   "cell_type": "markdown",
   "id": "32249b0e-5a95-4e82-8f67-de9b9dd568c8",
   "metadata": {},
   "source": [
    "# Group project\n",
    "## Group number:9\n",
    "## Project- Credit Card Fraud Detection\n",
    "## CMPE-255\n"
   ]
  },
  {
   "cell_type": "code",
   "execution_count": 1,
   "id": "89a9925b-822b-4618-9976-ffcf5bb09e04",
   "metadata": {},
   "outputs": [],
   "source": [
    "import numpy as np\n",
    "import pandas as pd\n",
    "import seaborn as sns\n",
    "import matplotlib.pyplot as plt\n",
    "from sklearn.decomposition import PCA\n",
    "from sklearn.preprocessing import StandardScaler\n",
    "from sklearn.model_selection import train_test_split\n",
    "from sklearn.metrics import classification_report, accuracy_score, precision_score, recall_score, f1_score, confusion_matrix\n",
    "from imblearn.over_sampling import SMOTE"
   ]
  },
  {
   "cell_type": "markdown",
   "id": "a8f552b7-d60d-478f-9c81-c47dfb6c9eac",
   "metadata": {},
   "source": [
    "### Data loading and data analysis\n",
    "#####  Kaggle dataset is used for this project.\n",
    "##### https://www.kaggle.com/datasets/mlg-ulb/creditcardfraud?resource=download"
   ]
  },
  {
   "cell_type": "code",
   "execution_count": 2,
   "id": "d5b81734-54ab-44fd-9df5-4d85ae6190da",
   "metadata": {},
   "outputs": [
    {
     "name": "stdout",
     "output_type": "stream",
     "text": [
      "   Time        V1        V2        V3        V4        V5        V6        V7  \\\n",
      "0   0.0 -1.359807 -0.072781  2.536347  1.378155 -0.338321  0.462388  0.239599   \n",
      "1   0.0  1.191857  0.266151  0.166480  0.448154  0.060018 -0.082361 -0.078803   \n",
      "2   1.0 -1.358354 -1.340163  1.773209  0.379780 -0.503198  1.800499  0.791461   \n",
      "\n",
      "         V8        V9  ...       V21       V22       V23       V24       V25  \\\n",
      "0  0.098698  0.363787  ... -0.018307  0.277838 -0.110474  0.066928  0.128539   \n",
      "1  0.085102 -0.255425  ... -0.225775 -0.638672  0.101288 -0.339846  0.167170   \n",
      "2  0.247676 -1.514654  ...  0.247998  0.771679  0.909412 -0.689281 -0.327642   \n",
      "\n",
      "        V26       V27       V28  Amount  Class  \n",
      "0 -0.189115  0.133558 -0.021053  149.62      0  \n",
      "1  0.125895 -0.008983  0.014724    2.69      0  \n",
      "2 -0.139097 -0.055353 -0.059752  378.66      0  \n",
      "\n",
      "[3 rows x 31 columns]\n"
     ]
    }
   ],
   "source": [
    "cc_data = pd.read_csv('creditcard.csv')\n",
    "# Display the first 3 rows\n",
    "print(cc_data.head(3))"
   ]
  },
  {
   "cell_type": "code",
   "execution_count": 3,
   "id": "ea18aa95-ec9a-4fdf-8666-60d36742779a",
   "metadata": {},
   "outputs": [
    {
     "name": "stdout",
     "output_type": "stream",
     "text": [
      "            Time        V1        V2        V3        V4        V5        V6  \\\n",
      "284804  172788.0  1.919565 -0.301254 -3.249640 -0.557828  2.630515  3.031260   \n",
      "284805  172788.0 -0.240440  0.530483  0.702510  0.689799 -0.377961  0.623708   \n",
      "284806  172792.0 -0.533413 -0.189733  0.703337 -0.506271 -0.012546 -0.649617   \n",
      "\n",
      "              V7        V8        V9  ...       V21       V22       V23  \\\n",
      "284804 -0.296827  0.708417  0.432454  ...  0.232045  0.578229 -0.037501   \n",
      "284805 -0.686180  0.679145  0.392087  ...  0.265245  0.800049 -0.163298   \n",
      "284806  1.577006 -0.414650  0.486180  ...  0.261057  0.643078  0.376777   \n",
      "\n",
      "             V24       V25       V26       V27       V28  Amount  Class  \n",
      "284804  0.640134  0.265745 -0.087371  0.004455 -0.026561   67.88      0  \n",
      "284805  0.123205 -0.569159  0.546668  0.108821  0.104533   10.00      0  \n",
      "284806  0.008797 -0.473649 -0.818267 -0.002415  0.013649  217.00      0  \n",
      "\n",
      "[3 rows x 31 columns]\n"
     ]
    }
   ],
   "source": [
    "#print the last three rows\n",
    "print(cc_data.tail(3))"
   ]
  },
  {
   "cell_type": "code",
   "execution_count": 4,
   "id": "476caab9-70b1-44ff-865b-67673f93bbd2",
   "metadata": {},
   "outputs": [
    {
     "name": "stdout",
     "output_type": "stream",
     "text": [
      "Number of rows: 284807\n",
      "Number of columns: 31\n"
     ]
    }
   ],
   "source": [
    "# Check the number of rows and cloumns in the dataset\n",
    "print(f\"Number of rows: {cc_data.shape[0]}\")\n",
    "print(f\"Number of columns: {cc_data.shape[1]}\")"
   ]
  },
  {
   "cell_type": "code",
   "execution_count": 5,
   "id": "04f2ac0d-abf9-4c87-b6a9-c5a621e912f2",
   "metadata": {},
   "outputs": [
    {
     "name": "stdout",
     "output_type": "stream",
     "text": [
      "<class 'pandas.core.frame.DataFrame'>\n",
      "RangeIndex: 284807 entries, 0 to 284806\n",
      "Data columns (total 31 columns):\n",
      " #   Column  Non-Null Count   Dtype  \n",
      "---  ------  --------------   -----  \n",
      " 0   Time    284807 non-null  float64\n",
      " 1   V1      284807 non-null  float64\n",
      " 2   V2      284807 non-null  float64\n",
      " 3   V3      284807 non-null  float64\n",
      " 4   V4      284807 non-null  float64\n",
      " 5   V5      284807 non-null  float64\n",
      " 6   V6      284807 non-null  float64\n",
      " 7   V7      284807 non-null  float64\n",
      " 8   V8      284807 non-null  float64\n",
      " 9   V9      284807 non-null  float64\n",
      " 10  V10     284807 non-null  float64\n",
      " 11  V11     284807 non-null  float64\n",
      " 12  V12     284807 non-null  float64\n",
      " 13  V13     284807 non-null  float64\n",
      " 14  V14     284807 non-null  float64\n",
      " 15  V15     284807 non-null  float64\n",
      " 16  V16     284807 non-null  float64\n",
      " 17  V17     284807 non-null  float64\n",
      " 18  V18     284807 non-null  float64\n",
      " 19  V19     284807 non-null  float64\n",
      " 20  V20     284807 non-null  float64\n",
      " 21  V21     284807 non-null  float64\n",
      " 22  V22     284807 non-null  float64\n",
      " 23  V23     284807 non-null  float64\n",
      " 24  V24     284807 non-null  float64\n",
      " 25  V25     284807 non-null  float64\n",
      " 26  V26     284807 non-null  float64\n",
      " 27  V27     284807 non-null  float64\n",
      " 28  V28     284807 non-null  float64\n",
      " 29  Amount  284807 non-null  float64\n",
      " 30  Class   284807 non-null  int64  \n",
      "dtypes: float64(30), int64(1)\n",
      "memory usage: 67.4 MB\n",
      "Columns info: None\n"
     ]
    }
   ],
   "source": [
    "print(\"Columns info:\",cc_data.info())"
   ]
  },
  {
   "cell_type": "markdown",
   "id": "853af0e0-40bd-4c85-a44e-63cee2b29e80",
   "metadata": {},
   "source": [
    "#### Counting the number of duplicate rows and checking for missing values\n",
    "##### Number of duplicate rows is 1081\n",
    "##### There are no missing values"
   ]
  },
  {
   "cell_type": "code",
   "execution_count": 6,
   "id": "b21c6bbc-0169-4c99-a5cb-a24b46ab7532",
   "metadata": {},
   "outputs": [
    {
     "name": "stdout",
     "output_type": "stream",
     "text": [
      "Duplicate rows: 1081\n",
      "Missing values: Time      0\n",
      "V1        0\n",
      "V2        0\n",
      "V3        0\n",
      "V4        0\n",
      "V5        0\n",
      "V6        0\n",
      "V7        0\n",
      "V8        0\n",
      "V9        0\n",
      "V10       0\n",
      "V11       0\n",
      "V12       0\n",
      "V13       0\n",
      "V14       0\n",
      "V15       0\n",
      "V16       0\n",
      "V17       0\n",
      "V18       0\n",
      "V19       0\n",
      "V20       0\n",
      "V21       0\n",
      "V22       0\n",
      "V23       0\n",
      "V24       0\n",
      "V25       0\n",
      "V26       0\n",
      "V27       0\n",
      "V28       0\n",
      "Amount    0\n",
      "Class     0\n",
      "dtype: int64\n"
     ]
    }
   ],
   "source": [
    "print(\"Duplicate rows:\", cc_data.duplicated().sum())\n",
    "print(\"Missing values:\", cc_data.isnull().sum())"
   ]
  },
  {
   "cell_type": "markdown",
   "id": "1d5efdb4-6b81-4235-a64e-63d745c57232",
   "metadata": {},
   "source": [
    "#### Counting the number of fraud and non fraud transactions\n",
    "#### 0 is non fraud transactions and 1 is the fraud transactions\n",
    "#### The dataset consists of 284315 non fraud transaction and 492 fraud transactions (imbalanced dataset)"
   ]
  },
  {
   "cell_type": "code",
   "execution_count": 7,
   "id": "56798b39-8cbd-4bf3-8789-f7f24e75ee5c",
   "metadata": {},
   "outputs": [
    {
     "name": "stdout",
     "output_type": "stream",
     "text": [
      "Class\n",
      "0    284315\n",
      "1       492\n",
      "Name: count, dtype: int64\n"
     ]
    }
   ],
   "source": [
    "print(cc_data['Class'].value_counts())"
   ]
  },
  {
   "cell_type": "code",
   "execution_count": 8,
   "id": "503cf9b3-e8ca-4bcb-a08a-90d2ef7b1b2a",
   "metadata": {},
   "outputs": [
    {
     "name": "stdout",
     "output_type": "stream",
     "text": [
      "               Time        V1        V2        V3        V4        V5  \\\n",
      "Class                                                                   \n",
      "0      94838.202258  0.008258 -0.006271  0.012171 -0.007860  0.005453   \n",
      "1      80746.806911 -4.771948  3.623778 -7.033281  4.542029 -3.151225   \n",
      "\n",
      "             V6        V7        V8        V9  ...       V20       V21  \\\n",
      "Class                                          ...                       \n",
      "0      0.002419  0.009637 -0.000987  0.004467  ... -0.000644 -0.001235   \n",
      "1     -1.397737 -5.568731  0.570636 -2.581123  ...  0.372319  0.713588   \n",
      "\n",
      "            V22       V23       V24       V25       V26       V27       V28  \\\n",
      "Class                                                                         \n",
      "0     -0.000024  0.000070  0.000182 -0.000072 -0.000089 -0.000295 -0.000131   \n",
      "1      0.014049 -0.040308 -0.105130  0.041449  0.051648  0.170575  0.075667   \n",
      "\n",
      "           Amount  \n",
      "Class              \n",
      "0       88.291022  \n",
      "1      122.211321  \n",
      "\n",
      "[2 rows x 30 columns]\n"
     ]
    }
   ],
   "source": [
    "# Comparing the mean of fraud and non-fraud transactions\n",
    "print(cc_data.groupby('Class').mean())"
   ]
  },
  {
   "cell_type": "markdown",
   "id": "08444ae5-beb7-4ec0-a021-5f33ccde4b85",
   "metadata": {},
   "source": [
    "#### Store fraud transactions in a varaible named fraud and non fraud transactions in a varialbe named non fraud"
   ]
  },
  {
   "cell_type": "code",
   "execution_count": 9,
   "id": "13c6bedd-9037-4da2-8acf-55ccf0a98a66",
   "metadata": {},
   "outputs": [
    {
     "name": "stdout",
     "output_type": "stream",
     "text": [
      "(492, 31)\n",
      "(284315, 31)\n"
     ]
    }
   ],
   "source": [
    "fraud = cc_data[cc_data.Class== 1]\n",
    "non_fraud = cc_data[cc_data.Class == 0]\n",
    "\n",
    "print(fraud.shape)\n",
    "print(non_fraud.shape)"
   ]
  },
  {
   "cell_type": "markdown",
   "id": "96a74332-7e25-4a39-92f7-530dba04e104",
   "metadata": {},
   "source": [
    "#### Statistics summary and Visualizion of the data distribution"
   ]
  },
  {
   "cell_type": "code",
   "execution_count": 10,
   "id": "af166cde-b213-4d13-9abf-512d6ca68ea9",
   "metadata": {},
   "outputs": [
    {
     "name": "stdout",
     "output_type": "stream",
     "text": [
      "                Time            V1            V2            V3            V4  \\\n",
      "count  284807.000000  2.848070e+05  2.848070e+05  2.848070e+05  2.848070e+05   \n",
      "mean    94813.859575  1.168375e-15  3.416908e-16 -1.379537e-15  2.074095e-15   \n",
      "std     47488.145955  1.958696e+00  1.651309e+00  1.516255e+00  1.415869e+00   \n",
      "min         0.000000 -5.640751e+01 -7.271573e+01 -4.832559e+01 -5.683171e+00   \n",
      "25%     54201.500000 -9.203734e-01 -5.985499e-01 -8.903648e-01 -8.486401e-01   \n",
      "50%     84692.000000  1.810880e-02  6.548556e-02  1.798463e-01 -1.984653e-02   \n",
      "75%    139320.500000  1.315642e+00  8.037239e-01  1.027196e+00  7.433413e-01   \n",
      "max    172792.000000  2.454930e+00  2.205773e+01  9.382558e+00  1.687534e+01   \n",
      "\n",
      "                 V5            V6            V7            V8            V9  \\\n",
      "count  2.848070e+05  2.848070e+05  2.848070e+05  2.848070e+05  2.848070e+05   \n",
      "mean   9.604066e-16  1.487313e-15 -5.556467e-16  1.213481e-16 -2.406331e-15   \n",
      "std    1.380247e+00  1.332271e+00  1.237094e+00  1.194353e+00  1.098632e+00   \n",
      "min   -1.137433e+02 -2.616051e+01 -4.355724e+01 -7.321672e+01 -1.343407e+01   \n",
      "25%   -6.915971e-01 -7.682956e-01 -5.540759e-01 -2.086297e-01 -6.430976e-01   \n",
      "50%   -5.433583e-02 -2.741871e-01  4.010308e-02  2.235804e-02 -5.142873e-02   \n",
      "75%    6.119264e-01  3.985649e-01  5.704361e-01  3.273459e-01  5.971390e-01   \n",
      "max    3.480167e+01  7.330163e+01  1.205895e+02  2.000721e+01  1.559499e+01   \n",
      "\n",
      "       ...           V21           V22           V23           V24  \\\n",
      "count  ...  2.848070e+05  2.848070e+05  2.848070e+05  2.848070e+05   \n",
      "mean   ...  1.654067e-16 -3.568593e-16  2.578648e-16  4.473266e-15   \n",
      "std    ...  7.345240e-01  7.257016e-01  6.244603e-01  6.056471e-01   \n",
      "min    ... -3.483038e+01 -1.093314e+01 -4.480774e+01 -2.836627e+00   \n",
      "25%    ... -2.283949e-01 -5.423504e-01 -1.618463e-01 -3.545861e-01   \n",
      "50%    ... -2.945017e-02  6.781943e-03 -1.119293e-02  4.097606e-02   \n",
      "75%    ...  1.863772e-01  5.285536e-01  1.476421e-01  4.395266e-01   \n",
      "max    ...  2.720284e+01  1.050309e+01  2.252841e+01  4.584549e+00   \n",
      "\n",
      "                V25           V26           V27           V28         Amount  \\\n",
      "count  2.848070e+05  2.848070e+05  2.848070e+05  2.848070e+05  284807.000000   \n",
      "mean   5.340915e-16  1.683437e-15 -3.660091e-16 -1.227390e-16      88.349619   \n",
      "std    5.212781e-01  4.822270e-01  4.036325e-01  3.300833e-01     250.120109   \n",
      "min   -1.029540e+01 -2.604551e+00 -2.256568e+01 -1.543008e+01       0.000000   \n",
      "25%   -3.171451e-01 -3.269839e-01 -7.083953e-02 -5.295979e-02       5.600000   \n",
      "50%    1.659350e-02 -5.213911e-02  1.342146e-03  1.124383e-02      22.000000   \n",
      "75%    3.507156e-01  2.409522e-01  9.104512e-02  7.827995e-02      77.165000   \n",
      "max    7.519589e+00  3.517346e+00  3.161220e+01  3.384781e+01   25691.160000   \n",
      "\n",
      "               Class  \n",
      "count  284807.000000  \n",
      "mean        0.001727  \n",
      "std         0.041527  \n",
      "min         0.000000  \n",
      "25%         0.000000  \n",
      "50%         0.000000  \n",
      "75%         0.000000  \n",
      "max         1.000000  \n",
      "\n",
      "[8 rows x 31 columns]\n"
     ]
    }
   ],
   "source": [
    "print(cc_data.describe())"
   ]
  },
  {
   "cell_type": "code",
   "execution_count": 11,
   "id": "ea51607b-6bfa-4217-99dc-43ea825d2ee6",
   "metadata": {},
   "outputs": [
    {
     "name": "stdout",
     "output_type": "stream",
     "text": [
      "count     492.000000\n",
      "mean      122.211321\n",
      "std       256.683288\n",
      "min         0.000000\n",
      "25%         1.000000\n",
      "50%         9.250000\n",
      "75%       105.890000\n",
      "max      2125.870000\n",
      "Name: Amount, dtype: float64\n"
     ]
    }
   ],
   "source": [
    "print(fraud.Amount.describe())"
   ]
  },
  {
   "cell_type": "code",
   "execution_count": 12,
   "id": "9a23ded1-9d5b-4538-b16a-39813cf84903",
   "metadata": {},
   "outputs": [
    {
     "name": "stdout",
     "output_type": "stream",
     "text": [
      "count    284315.000000\n",
      "mean         88.291022\n",
      "std         250.105092\n",
      "min           0.000000\n",
      "25%           5.650000\n",
      "50%          22.000000\n",
      "75%          77.050000\n",
      "max       25691.160000\n",
      "Name: Amount, dtype: float64\n"
     ]
    }
   ],
   "source": [
    "print(non_fraud.Amount.describe())"
   ]
  },
  {
   "cell_type": "code",
   "execution_count": 13,
   "id": "561a5245-57c6-426f-9b1e-95853c544710",
   "metadata": {},
   "outputs": [
    {
     "data": {
      "image/png": "[encoded data removed]",
      "text/plain": [
       "<Figure size 800x500 with 1 Axes>"
      ]
     },
     "metadata": {},
     "output_type": "display_data"
    }
   ],
   "source": [
    "# Histogram of transaction amounts\n",
    "plt.figure(figsize=(8,5))\n",
    "sns.histplot(cc_data['Amount'], bins=10)\n",
    "plt.title(\"Fraud/non Fraud Transactions Distribution\")\n",
    "plt.xlabel(\"Transaction\")\n",
    "plt.ylabel(\"Frequency\")\n",
    "plt.show()"
   ]
  },
  {
   "cell_type": "markdown",
   "id": "92063765-0f71-4ca7-9a75-0c8198339a1d",
   "metadata": {},
   "source": [
    "#### Handling the imbalanced dataset before building the model\n",
    "#### by undersampling the majority class and randomly taking a sample of 492 non-fraud transactions "
   ]
  },
  {
   "cell_type": "code",
   "execution_count": 14,
   "id": "81295362-845d-4443-8665-ed0f8dc37ed7",
   "metadata": {},
   "outputs": [
    {
     "name": "stdout",
     "output_type": "stream",
     "text": [
      "(492, 31)\n",
      "(492, 31)\n"
     ]
    }
   ],
   "source": [
    "non_fraud = non_fraud.sample(n=492)\n",
    "\n",
    "print(non_fraud.shape)\n",
    "print(fraud.shape)"
   ]
  },
  {
   "cell_type": "code",
   "execution_count": 15,
   "id": "96b345b1-2ac7-42db-971e-bef40d862aa5",
   "metadata": {},
   "outputs": [
    {
     "name": "stdout",
     "output_type": "stream",
     "text": [
      "Shape before preprocess: (284807, 31)\n",
      "Duplicates: 1081\n",
      "count    284807.000000\n",
      "mean         88.349619\n",
      "std         250.120109\n",
      "min           0.000000\n",
      "25%           5.600000\n",
      "50%          22.000000\n",
      "75%          77.165000\n",
      "max       25691.160000\n",
      "Name: Amount, dtype: float64\n"
     ]
    },
    {
     "data": {
      "image/png": "[encoded data removed]",
      "text/plain": [
       "<Figure size 640x480 with 1 Axes>"
      ]
     },
     "metadata": {},
     "output_type": "display_data"
    }
   ],
   "source": [
    "#State before pre-processing\n",
    "print(\"Shape before preprocess:\", cc_data.shape)\n",
    "print(\"Duplicates:\", cc_data.duplicated().sum())\n",
    "print(cc_data['Amount'].describe())\n",
    "sns.histplot(cc_data['Amount'], bins=30, kde=True)\n",
    "plt.title(\"Raw Amount Distribution\")\n",
    "plt.show()"
   ]
  },
  {
   "cell_type": "markdown",
   "id": "5edd08b7-2c88-4008-bd36-bc7ab536593d",
   "metadata": {},
   "source": [
    "Pre-process data. The importance of \n",
    "\n",
    "dropping duplicates: Prevents models from seeing the same example multiple times, ensuring a each row is unique and maintaining representation of transaction diversity\n",
    "\n",
    "log-transform Amount: Log transform to Amount pulls it in the right tail of large transactions, allowing for more symmetric distribution and easier to models to learn\n",
    "\n",
    "robust scale Amount: Ensures outliers don't dominate feature space"
   ]
  },
  {
   "cell_type": "code",
   "execution_count": 16,
   "id": "46f0ac0d-5571-4d8b-be90-d5d82fabd3bb",
   "metadata": {},
   "outputs": [],
   "source": [
    "# Pre-processing: drop duplicates, log‐transform & robust‐scale Amount\n",
    "from sklearn.preprocessing import RobustScaler\n",
    "cc_data = cc_data.drop_duplicates()\n",
    "cc_data['Amount_log'] = np.log1p(cc_data['Amount'])\n",
    "rs = RobustScaler().fit(cc_data[['Amount_log']])\n",
    "cc_data['Amount_scaled'] = rs.transform(cc_data[['Amount_log']])"
   ]
  },
  {
   "cell_type": "code",
   "execution_count": 17,
   "id": "1faaf31a-5398-4e44-9ac7-f8c18dfa28a4",
   "metadata": {},
   "outputs": [
    {
     "name": "stdout",
     "output_type": "stream",
     "text": [
      "Shape after preprocess: (283726, 33)\n",
      "count    283726.000000\n",
      "mean          3.153760\n",
      "std           1.657080\n",
      "min           0.000000\n",
      "25%           1.887070\n",
      "50%           3.135494\n",
      "75%           4.363226\n",
      "max          10.153941\n",
      "Name: Amount_log, dtype: float64\n",
      "count    283726.000000\n",
      "mean          0.007377\n",
      "std           0.669215\n",
      "min          -1.266275\n",
      "25%          -0.504178\n",
      "50%           0.000000\n",
      "75%           0.495822\n",
      "max           2.834412\n",
      "Name: Amount_scaled, dtype: float64\n"
     ]
    },
    {
     "data": {
      "image/png": "[encoded data removed]",
      "text/plain": [
       "<Figure size 1200x400 with 2 Axes>"
      ]
     },
     "metadata": {},
     "output_type": "display_data"
    }
   ],
   "source": [
    "#State after pre-processing\n",
    "print(\"Shape after preprocess:\", cc_data.shape)\n",
    "print(cc_data['Amount_log'].describe())\n",
    "print(cc_data['Amount_scaled'].describe())\n",
    "fig, axes = plt.subplots(1,2,figsize=(12,4))\n",
    "sns.histplot(cc_data['Amount_log'],    bins=30, ax=axes[0]).set(title=\"Amount_log\")\n",
    "sns.histplot(cc_data['Amount_scaled'], bins=30, ax=axes[1]).set(title=\"Amount_scaled\")\n",
    "plt.tight_layout()\n",
    "plt.show()"
   ]
  },
  {
   "cell_type": "markdown",
   "id": "96e031eb-06a7-4923-86dd-f2b2f5d5733a",
   "metadata": {},
   "source": [
    "#### Create new balanced dataset \n",
    "#### the new balanced dataset has 984 rows (492 fraud + 492 non fraud)"
   ]
  },
  {
   "cell_type": "code",
   "execution_count": 18,
   "id": "4cc09a1b-d33c-4fcf-9737-0826417bfe57",
   "metadata": {},
   "outputs": [
    {
     "name": "stdout",
     "output_type": "stream",
     "text": [
      "(946, 33)\n"
     ]
    }
   ],
   "source": [
    "fraud = cc_data[cc_data.Class == 1]\n",
    "non_fraud = cc_data[cc_data.Class == 0].sample(n=fraud.shape[0], random_state=42)\n",
    "new_balanced_dataset = pd.concat([non_fraud, fraud], axis=0)\n",
    "\n",
    "print(new_balanced_dataset.shape)"
   ]
  },
  {
   "cell_type": "markdown",
   "id": "dc5e003d-6598-485e-9214-ba1c5071dbe5",
   "metadata": {},
   "source": [
    "#### Compare the mean values of fraud and sampling non fraud transactions\n",
    "#### The mean values for the new dataset has to be close to the mean values of the original dataset"
   ]
  },
  {
   "cell_type": "code",
   "execution_count": 19,
   "id": "2fb73dfd-09b0-43e0-837a-87e1af79fcce",
   "metadata": {},
   "outputs": [
    {
     "name": "stdout",
     "output_type": "stream",
     "text": [
      "               Time        V1        V2        V3        V4        V5  \\\n",
      "Class                                                                   \n",
      "0      94835.058093  0.013439 -0.009829  0.012853 -0.010440  0.006769   \n",
      "1      80450.513742 -4.498280  3.405965 -6.729599  4.472591 -2.957197   \n",
      "\n",
      "             V6        V7        V8        V9  ...       V22       V23  \\\n",
      "Class                                          ...                       \n",
      "0      0.001251  0.010447 -0.002448  0.002613  ... -0.000160  0.000360   \n",
      "1     -1.432518 -5.175912  0.953255 -2.522124  ...  0.086639 -0.096464   \n",
      "\n",
      "            V24       V25       V26       V27       V28      Amount  \\\n",
      "Class                                                                 \n",
      "0      0.000393 -0.000301  0.000065  0.001409  0.000418   88.413575   \n",
      "1     -0.106643  0.040615  0.050456  0.213774  0.078270  123.871860   \n",
      "\n",
      "       Amount_log  Amount_scaled  \n",
      "Class                             \n",
      "0        3.154289       0.007590  \n",
      "1        2.837549      -0.120326  \n",
      "\n",
      "[2 rows x 32 columns]\n"
     ]
    }
   ],
   "source": [
    "print(cc_data.groupby('Class').mean())"
   ]
  },
  {
   "cell_type": "markdown",
   "id": "38af49e6-6e7f-46ff-a515-a8918377d6f2",
   "metadata": {},
   "source": [
    "##### Before building and training the model, we will split the new balanced dataset into train and test. \n",
    "##### X will be all the features from the new dataset and Y will be the target (Class)"
   ]
  },
  {
   "cell_type": "code",
   "execution_count": 20,
   "id": "22b7f5d4-27f1-4149-a819-57e06bfdcc42",
   "metadata": {},
   "outputs": [
    {
     "name": "stdout",
     "output_type": "stream",
     "text": [
      "            Time        V1        V2        V3        V4        V5        V6  \\\n",
      "274842  166238.0  0.032432  0.845050  0.161690 -0.798504  0.695579 -0.565116   \n",
      "90161    62888.0  1.205443  0.289451  0.741620  0.746450 -0.682445 -1.276868   \n",
      "41458    40687.0 -0.275684  1.112403  0.942716 -0.136235  0.427005 -0.504525   \n",
      "\n",
      "              V7        V8        V9  ...       V23       V24       V25  \\\n",
      "274842  0.933765 -0.062716 -0.349653  ...  0.001259 -0.400306 -0.451544   \n",
      "90161   0.136546 -0.284828 -0.106272  ...  0.185183  0.933687  0.168355   \n",
      "41458   0.686810 -0.014106 -0.322820  ... -0.121964 -0.509255 -0.052742   \n",
      "\n",
      "             V26       V27       V28  Amount  Class  Amount_log  Amount_scaled  \n",
      "274842  0.143434  0.246293  0.084199    2.58      0    1.275363      -0.751217  \n",
      "90161   0.058053 -0.025197  0.027646   11.04      0    2.488234      -0.261397  \n",
      "41458   0.124297  0.244629  0.089349    1.78      0    1.022451      -0.853356  \n",
      "\n",
      "[3 rows x 33 columns]\n"
     ]
    }
   ],
   "source": [
    "print(new_balanced_dataset.head(3))"
   ]
  },
  {
   "cell_type": "code",
   "execution_count": 21,
   "id": "316ecd20-9bbd-4b7b-9775-e313098ee186",
   "metadata": {},
   "outputs": [
    {
     "name": "stdout",
     "output_type": "stream",
     "text": [
      "X:             Time        V1        V2        V3        V4        V5        V6  \\\n",
      "274842  166238.0  0.032432  0.845050  0.161690 -0.798504  0.695579 -0.565116   \n",
      "90161    62888.0  1.205443  0.289451  0.741620  0.746450 -0.682445 -1.276868   \n",
      "41458    40687.0 -0.275684  1.112403  0.942716 -0.136235  0.427005 -0.504525   \n",
      "154410  101450.0  1.802716 -0.304729 -2.092921  0.191727  0.553230 -1.079475   \n",
      "75020    55862.0 -2.525869  2.202607  0.633063  0.584094 -0.668050  0.201383   \n",
      "...          ...       ...       ...       ...       ...       ...       ...   \n",
      "279863  169142.0 -1.927883  1.125653 -4.518331  1.749293 -1.566487 -2.010494   \n",
      "280143  169347.0  1.378559  1.289381 -5.004247  1.411850  0.442581 -1.326536   \n",
      "280149  169351.0 -0.676143  1.126366 -2.213700  0.468308 -1.120541 -0.003346   \n",
      "281144  169966.0 -3.113832  0.585864 -5.399730  1.817092 -0.840618 -2.943548   \n",
      "281674  170348.0  1.991976  0.158476 -2.583441  0.408670  1.151147 -0.096695   \n",
      "\n",
      "              V7        V8        V9  ...       V22       V23       V24  \\\n",
      "274842  0.933765 -0.062716 -0.349653  ... -0.491374  0.001259 -0.400306   \n",
      "90161   0.136546 -0.284828 -0.106272  ... -0.589665  0.185183  0.933687   \n",
      "41458   0.686810 -0.014106 -0.322820  ... -0.851229 -0.121964 -0.509255   \n",
      "154410  0.755031 -0.537489  1.236229  ...  0.251564 -0.165849 -0.392507   \n",
      "75020   0.207289  0.336436  0.751606  ... -0.238654 -0.115595 -0.024809   \n",
      "...          ...       ...       ...  ...       ...       ...       ...   \n",
      "279863 -0.882850  0.697211 -2.064945  ... -0.319189  0.639419 -0.294885   \n",
      "280143 -1.413170  0.248525 -1.127396  ...  0.028234 -0.145640 -0.081049   \n",
      "280149 -2.234739  1.210158 -0.652250  ...  0.834108  0.190944  0.032070   \n",
      "281144 -2.208002  1.058733 -1.632333  ... -0.269209 -0.456108 -0.183659   \n",
      "281674  0.223050 -0.068384  0.577829  ... -0.295135 -0.072173 -0.450261   \n",
      "\n",
      "             V25       V26       V27       V28  Amount  Amount_log  \\\n",
      "274842 -0.451544  0.143434  0.246293  0.084199    2.58    1.275363   \n",
      "90161   0.168355  0.058053 -0.025197  0.027646   11.04    2.488234   \n",
      "41458  -0.052742  0.124297  0.244629  0.089349    1.78    1.022451   \n",
      "154410  0.277481  0.121611 -0.135312 -0.068539  157.29    5.064429   \n",
      "75020  -0.158276 -0.669323 -1.506852 -0.739474   34.12    3.558771   \n",
      "...          ...       ...       ...       ...     ...         ...   \n",
      "279863  0.537503  0.788395  0.292680  0.147968  390.00    5.968708   \n",
      "280143  0.521875  0.739467  0.389152  0.186637    0.76    0.565314   \n",
      "280149 -0.739695  0.471111  0.385107  0.194361   77.89    4.368054   \n",
      "281144 -0.328168  0.606116  0.884876 -0.253700  245.00    5.505332   \n",
      "281674  0.313267 -0.289617  0.002988 -0.015309   42.53    3.773450   \n",
      "\n",
      "        Amount_scaled  \n",
      "274842      -0.751217  \n",
      "90161       -0.261397  \n",
      "41458       -0.853356  \n",
      "154410       0.779004  \n",
      "75020        0.170941  \n",
      "...               ...  \n",
      "279863       1.144198  \n",
      "280143      -1.037972  \n",
      "280149       0.497772  \n",
      "281144       0.957063  \n",
      "281674       0.257640  \n",
      "\n",
      "[946 rows x 32 columns]\n",
      "Y: 274842    0\n",
      "90161     0\n",
      "41458     0\n",
      "154410    0\n",
      "75020     0\n",
      "         ..\n",
      "279863    1\n",
      "280143    1\n",
      "280149    1\n",
      "281144    1\n",
      "281674    1\n",
      "Name: Class, Length: 946, dtype: int64\n"
     ]
    }
   ],
   "source": [
    "X = new_balanced_dataset.drop(columns='Class', axis=1)\n",
    "Y = new_balanced_dataset['Class']\n",
    "\n",
    "print(\"X:\",X)\n",
    "print(\"Y:\",Y)"
   ]
  },
  {
   "cell_type": "code",
   "execution_count": 22,
   "id": "c60adb7c-aa1c-42e1-8eaa-69e3858426a0",
   "metadata": {},
   "outputs": [],
   "source": [
    "RANDOM_SEED = 42"
   ]
  },
  {
   "cell_type": "code",
   "execution_count": 23,
   "id": "cff43640-c81a-453d-b85b-d08602d529ba",
   "metadata": {},
   "outputs": [],
   "source": [
    "X_train, X_validation, Y_train, Y_validation = train_test_split(X,Y,test_size=0.2, stratify=Y, random_state=RANDOM_SEED)"
   ]
  },
  {
   "cell_type": "code",
   "execution_count": 24,
   "id": "22da4995-bae0-4230-b5a6-4328c6ecd7c3",
   "metadata": {},
   "outputs": [
    {
     "name": "stdout",
     "output_type": "stream",
     "text": [
      "X_train: (756, 32)\n",
      "X_validation: (190, 32)\n"
     ]
    }
   ],
   "source": [
    "print(\"X_train:\",X_train.shape)\n",
    "print(\"X_validation:\",X_validation.shape)"
   ]
  },
  {
   "cell_type": "code",
   "execution_count": 25,
   "id": "ee86ee40-5c2d-45b1-ae44-4a07e457dc07",
   "metadata": {},
   "outputs": [
    {
     "name": "stdout",
     "output_type": "stream",
     "text": [
      "Y_train: 172014    0\n",
      "203700    1\n",
      "38464     0\n",
      "8993      0\n",
      "89561     0\n",
      "         ..\n",
      "204503    1\n",
      "42936     1\n",
      "248122    0\n",
      "249086    0\n",
      "145800    1\n",
      "Name: Class, Length: 756, dtype: int64\n",
      "Y_validation: 167184    1\n",
      "173671    0\n",
      "30496     1\n",
      "14242     0\n",
      "255403    1\n",
      "         ..\n",
      "202666    0\n",
      "84065     0\n",
      "84543     1\n",
      "99506     1\n",
      "278620    0\n",
      "Name: Class, Length: 190, dtype: int64\n"
     ]
    }
   ],
   "source": [
    "print(\"Y_train:\", Y_train)\n",
    "print(\"Y_validation:\", Y_validation)"
   ]
  },
  {
   "cell_type": "code",
   "execution_count": 26,
   "id": "79d0c878",
   "metadata": {},
   "outputs": [
    {
     "name": "stdout",
     "output_type": "stream",
     "text": [
      "Logistic Regression Report:\n",
      "              precision    recall  f1-score   support\n",
      "\n",
      "           0       0.91      0.99      0.95        95\n",
      "           1       0.99      0.91      0.95        95\n",
      "\n",
      "    accuracy                           0.95       190\n",
      "   macro avg       0.95      0.95      0.95       190\n",
      "weighted avg       0.95      0.95      0.95       190\n",
      "\n",
      "Decision Tree Report:\n",
      "              precision    recall  f1-score   support\n",
      "\n",
      "           0       0.94      0.92      0.93        95\n",
      "           1       0.92      0.94      0.93        95\n",
      "\n",
      "    accuracy                           0.93       190\n",
      "   macro avg       0.93      0.93      0.93       190\n",
      "weighted avg       0.93      0.93      0.93       190\n",
      "\n"
     ]
    },
    {
     "name": "stderr",
     "output_type": "stream",
     "text": [
      "/Users/sofiasilva/miniconda3/lib/python3.12/site-packages/sklearn/linear_model/_logistic.py:465: ConvergenceWarning: lbfgs failed to converge (status=1):\n",
      "STOP: TOTAL NO. OF ITERATIONS REACHED LIMIT.\n",
      "\n",
      "Increase the number of iterations (max_iter) or scale the data as shown in:\n",
      "    https://scikit-learn.org/stable/modules/preprocessing.html\n",
      "Please also refer to the documentation for alternative solver options:\n",
      "    https://scikit-learn.org/stable/modules/linear_model.html#logistic-regression\n",
      "  n_iter_i = _check_optimize_result(\n"
     ]
    }
   ],
   "source": [
    "# Step 3: Train Logistic Regression and Decision Tree models\n",
    "from sklearn.linear_model import LogisticRegression\n",
    "from sklearn.tree import DecisionTreeClassifier\n",
    "\n",
    "# Train-test split\n",
    "'''\n",
    "X = new_balanced_dataset.drop(\"Class\", axis=1)\n",
    "Y = new_balanced_dataset[\"Class\"]\n",
    "'''\n",
    "X_train, X_test, y_train, y_test = train_test_split(X, Y, test_size=0.2, stratify=Y, random_state=42)\n",
    "\n",
    "# Train models\n",
    "lr_model = LogisticRegression(max_iter=1000)\n",
    "dt_model = DecisionTreeClassifier(random_state=42)\n",
    "\n",
    "lr_model.fit(X_train, y_train)\n",
    "dt_model.fit(X_train, y_train)\n",
    "\n",
    "# Step 4: Evaluate models\n",
    "from sklearn.metrics import classification_report\n",
    "\n",
    "print(\"Logistic Regression Report:\")\n",
    "print(classification_report(y_test, lr_model.predict(X_test)))\n",
    "\n",
    "print(\"Decision Tree Report:\")\n",
    "print(classification_report(y_test, dt_model.predict(X_test)))\n"
   ]
  },
  {
   "cell_type": "markdown",
   "id": "35709743-1093-42f4-9f9c-0a55791c133f",
   "metadata": {},
   "source": [
    "Peform AUPRC: Importance- AUPRC summarizes how the model balances precision (of all flagged transactions, how many truly were fraud) against recall (of all actual frauds, how many you caught) across every possible probability cutoff\n",
    "\n",
    "Threshold tuning for the F1-score allows for the default decision cutoff of 0.5 to catch more true frauds while keeping false alarms in check."
   ]
  },
  {
   "cell_type": "code",
   "execution_count": 27,
   "id": "40248daf-2306-413c-b9dd-17902b35b359",
   "metadata": {},
   "outputs": [
    {
     "name": "stdout",
     "output_type": "stream",
     "text": [
      "Logistic Regression AUPRC =  0.982\n",
      "Decision Tree AUPRC =  0.891\n",
      "Logistic Regression best threshold = 0.228, F1 = 0.957\n",
      "Decision Tree best threshold = 1.000, F1 = 0.927\n",
      "\n",
      "Logistic Regression Report: \n",
      "              precision    recall  f1-score   support\n",
      "\n",
      "           0     0.9394    0.9789    0.9588        95\n",
      "           1     0.9780    0.9368    0.9570        95\n",
      "\n",
      "    accuracy                         0.9579       190\n",
      "   macro avg     0.9587    0.9579    0.9579       190\n",
      "weighted avg     0.9587    0.9579    0.9579       190\n",
      "\n",
      "Decision Tree Report: \n",
      "              precision    recall  f1-score   support\n",
      "\n",
      "           0     0.9355    0.9158    0.9255        95\n",
      "           1     0.9175    0.9368    0.9271        95\n",
      "\n",
      "    accuracy                         0.9263       190\n",
      "   macro avg     0.9265    0.9263    0.9263       190\n",
      "weighted avg     0.9265    0.9263    0.9263       190\n",
      "\n"
     ]
    }
   ],
   "source": [
    "#AUPRC & Threshold Tuning\n",
    "from sklearn.metrics import average_precision_score\n",
    "from sklearn.metrics import precision_recall_curve\n",
    "\n",
    "# Get probability scores\n",
    "y_scores_lr = lr_model.predict_proba(X_test)[:,1]\n",
    "y_scores_dt = dt_model.predict_proba(X_test)[:,1]\n",
    "\n",
    "#Finding AUPRC\n",
    "print(\"Logistic Regression AUPRC = \", average_precision_score(y_test, y_scores_lr).round(3))\n",
    "print(\"Decision Tree AUPRC = \", average_precision_score(y_test, y_scores_dt).round(3))\n",
    "\n",
    "#Find best threshold for F1\n",
    "#Logistic Regression\n",
    "precision_lr, recall_lr, thres_lr = precision_recall_curve(y_test, y_scores_lr)\n",
    "f1_lr = 2 * (precision_lr * recall_lr) / (precision_lr + recall_lr)\n",
    "best_idx_lr = np.nanargmax(f1_lr[:-1])\n",
    "best_thres_lr, best_f1_lr = thres_lr[best_idx_lr], f1_lr[best_idx_lr]\n",
    "print(f\"Logistic Regression best threshold = {best_thres_lr:.3f}, F1 = {best_f1_lr:.3f}\")\n",
    "\n",
    "#Decision Tree\n",
    "precision_dt, recall_dt, thres_dt = precision_recall_curve(y_test, y_scores_dt)\n",
    "f1_dt = 2 * (precision_dt * recall_dt) / (precision_dt + recall_dt)\n",
    "best_idx_dt = np.nanargmax(f1_dt[:-1])\n",
    "best_thres_dt, best_f1_dt = thres_dt[best_idx_dt], f1_dt[best_idx_dt]\n",
    "print(f\"Decision Tree best threshold = {best_thres_dt:.3f}, F1 = {best_f1_dt:.3f}\")\n",
    "\n",
    "#Final reports at best thresholds\n",
    "y_pred_lr = (y_scores_lr >= best_thres_lr).astype(int)\n",
    "y_pred_dt = (y_scores_dt >= best_thres_dt).astype(int)\n",
    "print(\"\\nLogistic Regression Report: \")\n",
    "print(classification_report(y_test, y_pred_lr, digits=4))\n",
    "print(\"Decision Tree Report: \")\n",
    "print(classification_report(y_test, y_pred_dt, digits=4))"
   ]
  },
  {
   "cell_type": "code",
   "execution_count": 28,
   "id": "8ef090b6-11da-486b-afac-6856f51e65c7",
   "metadata": {},
   "outputs": [
    {
     "data": {
      "image/png": "[encoded data removed]",
      "text/plain": [
       "<Figure size 400x300 with 2 Axes>"
      ]
     },
     "metadata": {},
     "output_type": "display_data"
    },
    {
     "data": {
      "image/png": "[encoded data removed]",
      "text/plain": [
       "<Figure size 400x300 with 2 Axes>"
      ]
     },
     "metadata": {},
     "output_type": "display_data"
    }
   ],
   "source": [
    "#Logistic Regression Confusion Matrix\n",
    "cm_lr = confusion_matrix(y_test, y_pred_lr)\n",
    "plt.figure(figsize=(4,3))\n",
    "sns.heatmap(\n",
    "    cm_lr, \n",
    "    annot=True, fmt='d', \n",
    "    cmap='Blues', \n",
    "    xticklabels=['Non-Fraud','Fraud'], \n",
    "    yticklabels=['Non-Fraud','Fraud']\n",
    ")\n",
    "plt.ylabel('True Label')\n",
    "plt.xlabel('Predicted Label')\n",
    "plt.title('Logistic Regression Confusion Matrix')\n",
    "plt.show()\n",
    "\n",
    "#Decision Tree Confusion Matrix\n",
    "cm_dt = confusion_matrix(y_test, y_pred_dt)\n",
    "plt.figure(figsize=(4,3))\n",
    "sns.heatmap(\n",
    "    cm_dt, \n",
    "    annot=True, fmt='d', \n",
    "    cmap='Greens', \n",
    "    xticklabels=['Non-Fraud','Fraud'], \n",
    "    yticklabels=['Non-Fraud','Fraud']\n",
    ")\n",
    "plt.ylabel('True Label')\n",
    "plt.xlabel('Predicted Label')\n",
    "plt.title('Decision Tree Confusion Matrix')\n",
    "plt.show()"
   ]
  },
  {
   "cell_type": "code",
   "execution_count": null,
   "id": "0d55a5fa-05ff-43b6-8c53-702bec7f9a59",
   "metadata": {},
   "outputs": [],
   "source": []
  }
 ],
 "metadata": {
  "kernelspec": {
   "display_name": "Python 3 (ipykernel)",
   "language": "python",
   "name": "python3"
  },
  "language_info": {
   "codemirror_mode": {
    "name": "ipython",
    "version": 3
   },
   "file_extension": ".py",
   "mimetype": "text/x-python",
   "name": "python",
   "nbconvert_exporter": "python",
   "pygments_lexer": "ipython3",
   "version": "3.12.4"
  }
 },
 "nbformat": 4,
 "nbformat_minor": 5
}
