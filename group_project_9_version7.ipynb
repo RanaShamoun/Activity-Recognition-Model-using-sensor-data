{
 "cells": [
  {
   "cell_type": "markdown",
   "id": "32249b0e-5a95-4e82-8f67-de9b9dd568c8",
   "metadata": {},
   "source": [
    "# Group project\n",
    "## Group number:9\n",
    "## Project- Credit Card Fraud Detection\n",
    "## CMPE-255\n"
   ]
  },
  {
   "cell_type": "code",
   "execution_count": 1,
   "id": "89a9925b-822b-4618-9976-ffcf5bb09e04",
   "metadata": {},
   "outputs": [],
   "source": [
    "import numpy as np\n",
    "import pandas as pd\n",
    "import seaborn as sns\n",
    "import matplotlib.pyplot as plt\n",
    "from sklearn.decomposition import PCA\n",
    "from sklearn.preprocessing import StandardScaler\n",
    "from sklearn.model_selection import train_test_split\n",
    "from sklearn.metrics import classification_report, accuracy_score, precision_score, recall_score, f1_score, confusion_matrix\n",
    "from imblearn.over_sampling import SMOTE"
   ]
  },
  {
   "cell_type": "markdown",
   "id": "a8f552b7-d60d-478f-9c81-c47dfb6c9eac",
   "metadata": {},
   "source": [
    "### Data loading and data analysis\n",
    "#####  Kaggle dataset is used for this project.\n",
    "##### https://www.kaggle.com/datasets/mlg-ulb/creditcardfraud?resource=download"
   ]
  },
  {
   "cell_type": "code",
   "execution_count": 2,
   "id": "d5b81734-54ab-44fd-9df5-4d85ae6190da",
   "metadata": {},
   "outputs": [
    {
     "name": "stdout",
     "output_type": "stream",
     "text": [
      "   Time        V1        V2        V3        V4        V5        V6        V7  \\\n",
      "0   0.0 -1.359807 -0.072781  2.536347  1.378155 -0.338321  0.462388  0.239599   \n",
      "1   0.0  1.191857  0.266151  0.166480  0.448154  0.060018 -0.082361 -0.078803   \n",
      "2   1.0 -1.358354 -1.340163  1.773209  0.379780 -0.503198  1.800499  0.791461   \n",
      "\n",
      "         V8        V9  ...       V21       V22       V23       V24       V25  \\\n",
      "0  0.098698  0.363787  ... -0.018307  0.277838 -0.110474  0.066928  0.128539   \n",
      "1  0.085102 -0.255425  ... -0.225775 -0.638672  0.101288 -0.339846  0.167170   \n",
      "2  0.247676 -1.514654  ...  0.247998  0.771679  0.909412 -0.689281 -0.327642   \n",
      "\n",
      "        V26       V27       V28  Amount  Class  \n",
      "0 -0.189115  0.133558 -0.021053  149.62      0  \n",
      "1  0.125895 -0.008983  0.014724    2.69      0  \n",
      "2 -0.139097 -0.055353 -0.059752  378.66      0  \n",
      "\n",
      "[3 rows x 31 columns]\n"
     ]
    }
   ],
   "source": [
    "cc_data = pd.read_csv('creditcard.csv')\n",
    "# Display the first 3 rows\n",
    "print(cc_data.head(3))"
   ]
  },
  {
   "cell_type": "code",
   "execution_count": 3,
   "id": "ea18aa95-ec9a-4fdf-8666-60d36742779a",
   "metadata": {},
   "outputs": [
    {
     "name": "stdout",
     "output_type": "stream",
     "text": [
      "            Time        V1        V2        V3        V4        V5        V6  \\\n",
      "284804  172788.0  1.919565 -0.301254 -3.249640 -0.557828  2.630515  3.031260   \n",
      "284805  172788.0 -0.240440  0.530483  0.702510  0.689799 -0.377961  0.623708   \n",
      "284806  172792.0 -0.533413 -0.189733  0.703337 -0.506271 -0.012546 -0.649617   \n",
      "\n",
      "              V7        V8        V9  ...       V21       V22       V23  \\\n",
      "284804 -0.296827  0.708417  0.432454  ...  0.232045  0.578229 -0.037501   \n",
      "284805 -0.686180  0.679145  0.392087  ...  0.265245  0.800049 -0.163298   \n",
      "284806  1.577006 -0.414650  0.486180  ...  0.261057  0.643078  0.376777   \n",
      "\n",
      "             V24       V25       V26       V27       V28  Amount  Class  \n",
      "284804  0.640134  0.265745 -0.087371  0.004455 -0.026561   67.88      0  \n",
      "284805  0.123205 -0.569159  0.546668  0.108821  0.104533   10.00      0  \n",
      "284806  0.008797 -0.473649 -0.818267 -0.002415  0.013649  217.00      0  \n",
      "\n",
      "[3 rows x 31 columns]\n"
     ]
    }
   ],
   "source": [
    "#print the last three rows\n",
    "print(cc_data.tail(3))"
   ]
  },
  {
   "cell_type": "code",
   "execution_count": 4,
   "id": "476caab9-70b1-44ff-865b-67673f93bbd2",
   "metadata": {},
   "outputs": [
    {
     "name": "stdout",
     "output_type": "stream",
     "text": [
      "Number of rows: 284807\n",
      "Number of columns: 31\n"
     ]
    }
   ],
   "source": [
    "# Check the number of rows and cloumns in the dataset\n",
    "print(f\"Number of rows: {cc_data.shape[0]}\")\n",
    "print(f\"Number of columns: {cc_data.shape[1]}\")"
   ]
  },
  {
   "cell_type": "code",
   "execution_count": 5,
   "id": "04f2ac0d-abf9-4c87-b6a9-c5a621e912f2",
   "metadata": {},
   "outputs": [
    {
     "name": "stdout",
     "output_type": "stream",
     "text": [
      "<class 'pandas.core.frame.DataFrame'>\n",
      "RangeIndex: 284807 entries, 0 to 284806\n",
      "Data columns (total 31 columns):\n",
      " #   Column  Non-Null Count   Dtype  \n",
      "---  ------  --------------   -----  \n",
      " 0   Time    284807 non-null  float64\n",
      " 1   V1      284807 non-null  float64\n",
      " 2   V2      284807 non-null  float64\n",
      " 3   V3      284807 non-null  float64\n",
      " 4   V4      284807 non-null  float64\n",
      " 5   V5      284807 non-null  float64\n",
      " 6   V6      284807 non-null  float64\n",
      " 7   V7      284807 non-null  float64\n",
      " 8   V8      284807 non-null  float64\n",
      " 9   V9      284807 non-null  float64\n",
      " 10  V10     284807 non-null  float64\n",
      " 11  V11     284807 non-null  float64\n",
      " 12  V12     284807 non-null  float64\n",
      " 13  V13     284807 non-null  float64\n",
      " 14  V14     284807 non-null  float64\n",
      " 15  V15     284807 non-null  float64\n",
      " 16  V16     284807 non-null  float64\n",
      " 17  V17     284807 non-null  float64\n",
      " 18  V18     284807 non-null  float64\n",
      " 19  V19     284807 non-null  float64\n",
      " 20  V20     284807 non-null  float64\n",
      " 21  V21     284807 non-null  float64\n",
      " 22  V22     284807 non-null  float64\n",
      " 23  V23     284807 non-null  float64\n",
      " 24  V24     284807 non-null  float64\n",
      " 25  V25     284807 non-null  float64\n",
      " 26  V26     284807 non-null  float64\n",
      " 27  V27     284807 non-null  float64\n",
      " 28  V28     284807 non-null  float64\n",
      " 29  Amount  284807 non-null  float64\n",
      " 30  Class   284807 non-null  int64  \n",
      "dtypes: float64(30), int64(1)\n",
      "memory usage: 67.4 MB\n",
      "Columns info: None\n"
     ]
    }
   ],
   "source": [
    "print(\"Columns info:\",cc_data.info())"
   ]
  },
  {
   "cell_type": "markdown",
   "id": "853af0e0-40bd-4c85-a44e-63cee2b29e80",
   "metadata": {},
   "source": [
    "#### Counting the number of duplicate rows and checking for missing values\n",
    "##### Number of duplicate rows is 1081\n",
    "##### There are no missing values"
   ]
  },
  {
   "cell_type": "code",
   "execution_count": 6,
   "id": "b21c6bbc-0169-4c99-a5cb-a24b46ab7532",
   "metadata": {},
   "outputs": [
    {
     "name": "stdout",
     "output_type": "stream",
     "text": [
      "Duplicate rows: 1081\n",
      "Missing values: Time      0\n",
      "V1        0\n",
      "V2        0\n",
      "V3        0\n",
      "V4        0\n",
      "V5        0\n",
      "V6        0\n",
      "V7        0\n",
      "V8        0\n",
      "V9        0\n",
      "V10       0\n",
      "V11       0\n",
      "V12       0\n",
      "V13       0\n",
      "V14       0\n",
      "V15       0\n",
      "V16       0\n",
      "V17       0\n",
      "V18       0\n",
      "V19       0\n",
      "V20       0\n",
      "V21       0\n",
      "V22       0\n",
      "V23       0\n",
      "V24       0\n",
      "V25       0\n",
      "V26       0\n",
      "V27       0\n",
      "V28       0\n",
      "Amount    0\n",
      "Class     0\n",
      "dtype: int64\n"
     ]
    }
   ],
   "source": [
    "print(\"Duplicate rows:\", cc_data.duplicated().sum())\n",
    "print(\"Missing values:\", cc_data.isnull().sum())"
   ]
  },
  {
   "cell_type": "markdown",
   "id": "1d5efdb4-6b81-4235-a64e-63d745c57232",
   "metadata": {},
   "source": [
    "#### Counting the number of fraud and non fraud transactions\n",
    "#### 0 is non fraud transactions and 1 is the fraud transactions\n",
    "#### The dataset consists of 284315 non fraud transaction and 492 fraud transactions (imbalanced dataset)"
   ]
  },
  {
   "cell_type": "code",
   "execution_count": 7,
   "id": "56798b39-8cbd-4bf3-8789-f7f24e75ee5c",
   "metadata": {},
   "outputs": [
    {
     "name": "stdout",
     "output_type": "stream",
     "text": [
      "Class\n",
      "0    284315\n",
      "1       492\n",
      "Name: count, dtype: int64\n"
     ]
    }
   ],
   "source": [
    "print(cc_data['Class'].value_counts())"
   ]
  },
  {
   "cell_type": "code",
   "execution_count": 8,
   "id": "503cf9b3-e8ca-4bcb-a08a-90d2ef7b1b2a",
   "metadata": {},
   "outputs": [
    {
     "name": "stdout",
     "output_type": "stream",
     "text": [
      "               Time        V1        V2        V3        V4        V5  \\\n",
      "Class                                                                   \n",
      "0      94838.202258  0.008258 -0.006271  0.012171 -0.007860  0.005453   \n",
      "1      80746.806911 -4.771948  3.623778 -7.033281  4.542029 -3.151225   \n",
      "\n",
      "             V6        V7        V8        V9  ...       V20       V21  \\\n",
      "Class                                          ...                       \n",
      "0      0.002419  0.009637 -0.000987  0.004467  ... -0.000644 -0.001235   \n",
      "1     -1.397737 -5.568731  0.570636 -2.581123  ...  0.372319  0.713588   \n",
      "\n",
      "            V22       V23       V24       V25       V26       V27       V28  \\\n",
      "Class                                                                         \n",
      "0     -0.000024  0.000070  0.000182 -0.000072 -0.000089 -0.000295 -0.000131   \n",
      "1      0.014049 -0.040308 -0.105130  0.041449  0.051648  0.170575  0.075667   \n",
      "\n",
      "           Amount  \n",
      "Class              \n",
      "0       88.291022  \n",
      "1      122.211321  \n",
      "\n",
      "[2 rows x 30 columns]\n"
     ]
    }
   ],
   "source": [
    "# Comparing the mean of fraud and non-fraud transactions\n",
    "print(cc_data.groupby('Class').mean())"
   ]
  },
  {
   "cell_type": "markdown",
   "id": "08444ae5-beb7-4ec0-a021-5f33ccde4b85",
   "metadata": {},
   "source": [
    "#### Store fraud transactions in a varaible named fraud and non fraud transactions in a varialbe named non fraud"
   ]
  },
  {
   "cell_type": "code",
   "execution_count": 9,
   "id": "13c6bedd-9037-4da2-8acf-55ccf0a98a66",
   "metadata": {},
   "outputs": [
    {
     "name": "stdout",
     "output_type": "stream",
     "text": [
      "(492, 31)\n",
      "(284315, 31)\n"
     ]
    }
   ],
   "source": [
    "fraud = cc_data[cc_data.Class== 1]\n",
    "non_fraud = cc_data[cc_data.Class == 0]\n",
    "\n",
    "print(fraud.shape)\n",
    "print(non_fraud.shape)"
   ]
  },
  {
   "cell_type": "markdown",
   "id": "96a74332-7e25-4a39-92f7-530dba04e104",
   "metadata": {},
   "source": [
    "#### Statistics summary and Visualizion of the data distribution"
   ]
  },
  {
   "cell_type": "code",
   "execution_count": 10,
   "id": "af166cde-b213-4d13-9abf-512d6ca68ea9",
   "metadata": {},
   "outputs": [
    {
     "name": "stdout",
     "output_type": "stream",
     "text": [
      "                Time            V1            V2            V3            V4  \\\n",
      "count  284807.000000  2.848070e+05  2.848070e+05  2.848070e+05  2.848070e+05   \n",
      "mean    94813.859575  1.168375e-15  3.416908e-16 -1.379537e-15  2.074095e-15   \n",
      "std     47488.145955  1.958696e+00  1.651309e+00  1.516255e+00  1.415869e+00   \n",
      "min         0.000000 -5.640751e+01 -7.271573e+01 -4.832559e+01 -5.683171e+00   \n",
      "25%     54201.500000 -9.203734e-01 -5.985499e-01 -8.903648e-01 -8.486401e-01   \n",
      "50%     84692.000000  1.810880e-02  6.548556e-02  1.798463e-01 -1.984653e-02   \n",
      "75%    139320.500000  1.315642e+00  8.037239e-01  1.027196e+00  7.433413e-01   \n",
      "max    172792.000000  2.454930e+00  2.205773e+01  9.382558e+00  1.687534e+01   \n",
      "\n",
      "                 V5            V6            V7            V8            V9  \\\n",
      "count  2.848070e+05  2.848070e+05  2.848070e+05  2.848070e+05  2.848070e+05   \n",
      "mean   9.604066e-16  1.487313e-15 -5.556467e-16  1.213481e-16 -2.406331e-15   \n",
      "std    1.380247e+00  1.332271e+00  1.237094e+00  1.194353e+00  1.098632e+00   \n",
      "min   -1.137433e+02 -2.616051e+01 -4.355724e+01 -7.321672e+01 -1.343407e+01   \n",
      "25%   -6.915971e-01 -7.682956e-01 -5.540759e-01 -2.086297e-01 -6.430976e-01   \n",
      "50%   -5.433583e-02 -2.741871e-01  4.010308e-02  2.235804e-02 -5.142873e-02   \n",
      "75%    6.119264e-01  3.985649e-01  5.704361e-01  3.273459e-01  5.971390e-01   \n",
      "max    3.480167e+01  7.330163e+01  1.205895e+02  2.000721e+01  1.559499e+01   \n",
      "\n",
      "       ...           V21           V22           V23           V24  \\\n",
      "count  ...  2.848070e+05  2.848070e+05  2.848070e+05  2.848070e+05   \n",
      "mean   ...  1.654067e-16 -3.568593e-16  2.578648e-16  4.473266e-15   \n",
      "std    ...  7.345240e-01  7.257016e-01  6.244603e-01  6.056471e-01   \n",
      "min    ... -3.483038e+01 -1.093314e+01 -4.480774e+01 -2.836627e+00   \n",
      "25%    ... -2.283949e-01 -5.423504e-01 -1.618463e-01 -3.545861e-01   \n",
      "50%    ... -2.945017e-02  6.781943e-03 -1.119293e-02  4.097606e-02   \n",
      "75%    ...  1.863772e-01  5.285536e-01  1.476421e-01  4.395266e-01   \n",
      "max    ...  2.720284e+01  1.050309e+01  2.252841e+01  4.584549e+00   \n",
      "\n",
      "                V25           V26           V27           V28         Amount  \\\n",
      "count  2.848070e+05  2.848070e+05  2.848070e+05  2.848070e+05  284807.000000   \n",
      "mean   5.340915e-16  1.683437e-15 -3.660091e-16 -1.227390e-16      88.349619   \n",
      "std    5.212781e-01  4.822270e-01  4.036325e-01  3.300833e-01     250.120109   \n",
      "min   -1.029540e+01 -2.604551e+00 -2.256568e+01 -1.543008e+01       0.000000   \n",
      "25%   -3.171451e-01 -3.269839e-01 -7.083953e-02 -5.295979e-02       5.600000   \n",
      "50%    1.659350e-02 -5.213911e-02  1.342146e-03  1.124383e-02      22.000000   \n",
      "75%    3.507156e-01  2.409522e-01  9.104512e-02  7.827995e-02      77.165000   \n",
      "max    7.519589e+00  3.517346e+00  3.161220e+01  3.384781e+01   25691.160000   \n",
      "\n",
      "               Class  \n",
      "count  284807.000000  \n",
      "mean        0.001727  \n",
      "std         0.041527  \n",
      "min         0.000000  \n",
      "25%         0.000000  \n",
      "50%         0.000000  \n",
      "75%         0.000000  \n",
      "max         1.000000  \n",
      "\n",
      "[8 rows x 31 columns]\n"
     ]
    }
   ],
   "source": [
    "print(cc_data.describe())"
   ]
  },
  {
   "cell_type": "code",
   "execution_count": 11,
   "id": "ea51607b-6bfa-4217-99dc-43ea825d2ee6",
   "metadata": {},
   "outputs": [
    {
     "name": "stdout",
     "output_type": "stream",
     "text": [
      "count     492.000000\n",
      "mean      122.211321\n",
      "std       256.683288\n",
      "min         0.000000\n",
      "25%         1.000000\n",
      "50%         9.250000\n",
      "75%       105.890000\n",
      "max      2125.870000\n",
      "Name: Amount, dtype: float64\n"
     ]
    }
   ],
   "source": [
    "print(fraud.Amount.describe())"
   ]
  },
  {
   "cell_type": "code",
   "execution_count": 12,
   "id": "9a23ded1-9d5b-4538-b16a-39813cf84903",
   "metadata": {},
   "outputs": [
    {
     "name": "stdout",
     "output_type": "stream",
     "text": [
      "count    284315.000000\n",
      "mean         88.291022\n",
      "std         250.105092\n",
      "min           0.000000\n",
      "25%           5.650000\n",
      "50%          22.000000\n",
      "75%          77.050000\n",
      "max       25691.160000\n",
      "Name: Amount, dtype: float64\n"
     ]
    }
   ],
   "source": [
    "print(non_fraud.Amount.describe())"
   ]
  },
  {
   "cell_type": "code",
   "execution_count": 13,
   "id": "561a5245-57c6-426f-9b1e-95853c544710",
   "metadata": {},
   "outputs": [
    {
     "data": {
      "image/png": "[encoded data removed]",
      "text/plain": [
       "<Figure size 800x500 with 1 Axes>"
      ]
     },
     "metadata": {},
     "output_type": "display_data"
    }
   ],
   "source": [
    "# Histogram of transaction amounts\n",
    "plt.figure(figsize=(8,5))\n",
    "sns.histplot(cc_data['Amount'], bins=10)\n",
    "plt.title(\"Fraud/non Fraud Transactions Distribution\")\n",
    "plt.xlabel(\"Transaction\")\n",
    "plt.ylabel(\"Frequency\")\n",
    "plt.show()"
   ]
  },
  {
   "cell_type": "code",
   "execution_count": 14,
   "id": "83c62530-1499-4d6a-b1ff-942be4907fd3",
   "metadata": {},
   "outputs": [],
   "source": [
    "RANDOM_SEED = 42"
   ]
  },
  {
   "cell_type": "markdown",
   "id": "13f237ea-7d71-438b-bc05-6ddf5220e0c3",
   "metadata": {},
   "source": [
    "#### Handling the imbalanced dataset before building the model\n",
    "#### by oversampling the minority class"
   ]
  },
  {
   "cell_type": "code",
   "execution_count": 15,
   "id": "81295362-845d-4443-8665-ed0f8dc37ed7",
   "metadata": {},
   "outputs": [
    {
     "name": "stdout",
     "output_type": "stream",
     "text": [
      "(284315, 31)\n",
      "(284315, 31)\n"
     ]
    }
   ],
   "source": [
    "from sklearn.utils import resample\n",
    "fraud = resample(fraud,replace=True, n_samples=284315, random_state=RANDOM_SEED)\n",
    "\n",
    "print(fraud.shape)\n",
    "print(non_fraud.shape)"
   ]
  },
  {
   "cell_type": "code",
   "execution_count": 16,
   "id": "96b345b1-2ac7-42db-971e-bef40d862aa5",
   "metadata": {},
   "outputs": [
    {
     "name": "stdout",
     "output_type": "stream",
     "text": [
      "Shape before preprocess: (284807, 31)\n",
      "Duplicates: 1081\n",
      "count    284807.000000\n",
      "mean         88.349619\n",
      "std         250.120109\n",
      "min           0.000000\n",
      "25%           5.600000\n",
      "50%          22.000000\n",
      "75%          77.165000\n",
      "max       25691.160000\n",
      "Name: Amount, dtype: float64\n"
     ]
    },
    {
     "data": {
      "image/png": "[encoded data removed]",
      "text/plain": [
       "<Figure size 640x480 with 1 Axes>"
      ]
     },
     "metadata": {},
     "output_type": "display_data"
    }
   ],
   "source": [
    "#State before pre-processing\n",
    "print(\"Shape before preprocess:\", cc_data.shape)\n",
    "print(\"Duplicates:\", cc_data.duplicated().sum())\n",
    "print(cc_data['Amount'].describe())\n",
    "sns.histplot(cc_data['Amount'], bins=30, kde=True)\n",
    "plt.title(\"Raw Amount Distribution\")\n",
    "plt.show()"
   ]
  },
  {
   "cell_type": "markdown",
   "id": "5edd08b7-2c88-4008-bd36-bc7ab536593d",
   "metadata": {},
   "source": [
    "Pre-process data. The importance of \n",
    "\n",
    "dropping duplicates: Prevents models from seeing the same example multiple times, ensuring a each row is unique and maintaining representation of transaction diversity\n",
    "\n",
    "log-transform Amount: Log transform to Amount pulls it in the right tail of large transactions, allowing for more symmetric distribution and easier to models to learn\n",
    "\n",
    "robust scale Amount: Ensures outliers don't dominate feature space"
   ]
  },
  {
   "cell_type": "code",
   "execution_count": 17,
   "id": "46f0ac0d-5571-4d8b-be90-d5d82fabd3bb",
   "metadata": {},
   "outputs": [],
   "source": [
    "# Pre-processing: drop duplicates, log‐transform & robust‐scale Amount\n",
    "from sklearn.preprocessing import RobustScaler\n",
    "cc_data = cc_data.drop_duplicates()\n",
    "cc_data['Amount_log'] = np.log1p(cc_data['Amount'])\n",
    "rs = RobustScaler().fit(cc_data[['Amount_log']])\n",
    "cc_data['Amount_scaled'] = rs.transform(cc_data[['Amount_log']])"
   ]
  },
  {
   "cell_type": "code",
   "execution_count": null,
   "id": "bad28f2d",
   "metadata": {},
   "outputs": [],
   "source": [
    "\n",
    "# Step 4: Feature Engineering on Time column\n",
    "# Extract hour of the day\n",
    "cc_data['Hour'] = (cc_data['Time'] // 3600) % 24\n",
    "\n",
    "# Compute time since previous transaction (sorted by Time)\n",
    "cc_data = cc_data.sort_values(by='Time')\n",
    "cc_data['Time_diff'] = cc_data['Time'].diff().fillna(0)\n",
    "\n",
    "# Encode hour cyclically\n",
    "cc_data['Hour_sin'] = np.sin(2 * np.pi * cc_data['Hour'] / 24)\n",
    "cc_data['Hour_cos'] = np.cos(2 * np.pi * cc_data['Hour'] / 24)\n",
    "\n",
    "# Drop original 'Time' and 'Hour' as they are now encoded\n",
    "cc_data = cc_data.drop(columns=['Time', 'Hour'])\n"
   ]
  },
  {
   "cell_type": "code",
   "execution_count": 18,
   "id": "1faaf31a-5398-4e44-9ac7-f8c18dfa28a4",
   "metadata": {},
   "outputs": [
    {
     "name": "stdout",
     "output_type": "stream",
     "text": [
      "Shape after preprocess: (283726, 33)\n",
      "count    283726.000000\n",
      "mean          3.153760\n",
      "std           1.657080\n",
      "min           0.000000\n",
      "25%           1.887070\n",
      "50%           3.135494\n",
      "75%           4.363226\n",
      "max          10.153941\n",
      "Name: Amount_log, dtype: float64\n",
      "count    283726.000000\n",
      "mean          0.007377\n",
      "std           0.669215\n",
      "min          -1.266275\n",
      "25%          -0.504178\n",
      "50%           0.000000\n",
      "75%           0.495822\n",
      "max           2.834412\n",
      "Name: Amount_scaled, dtype: float64\n"
     ]
    },
    {
     "data": {
      "image/png": "[encoded data removed]",
      "text/plain": [
       "<Figure size 1200x400 with 2 Axes>"
      ]
     },
     "metadata": {},
     "output_type": "display_data"
    }
   ],
   "source": [
    "#State after pre-processing\n",
    "print(\"Shape after preprocess:\", cc_data.shape)\n",
    "print(cc_data['Amount_log'].describe())\n",
    "print(cc_data['Amount_scaled'].describe())\n",
    "fig, axes = plt.subplots(1,2,figsize=(12,4))\n",
    "sns.histplot(cc_data['Amount_log'],    bins=30, ax=axes[0]).set(title=\"Amount_log\")\n",
    "sns.histplot(cc_data['Amount_scaled'], bins=30, ax=axes[1]).set(title=\"Amount_scaled\")\n",
    "plt.tight_layout()\n",
    "plt.show()"
   ]
  },
  {
   "cell_type": "markdown",
   "id": "d8220d79-c331-4963-aa95-f97de25feb5e",
   "metadata": {},
   "source": [
    "#### Create new balanced dataset \n",
    "#### the new balanced dataset has 568630 rows (284315 fraud + 284315 non fraud)"
   ]
  },
  {
   "cell_type": "code",
   "execution_count": 19,
   "id": "4cc09a1b-d33c-4fcf-9737-0826417bfe57",
   "metadata": {},
   "outputs": [
    {
     "name": "stdout",
     "output_type": "stream",
     "text": [
      "(568630, 31)\n"
     ]
    }
   ],
   "source": [
    "new_balanced_dataset = pd.concat([non_fraud, fraud], axis=0)\n",
    "\n",
    "print(new_balanced_dataset.shape)"
   ]
  },
  {
   "cell_type": "markdown",
   "id": "dc5e003d-6598-485e-9214-ba1c5071dbe5",
   "metadata": {},
   "source": [
    "#### Compare the mean values of fraud and sampling non fraud transactions\n",
    "#### The mean values for the new dataset has to be close to the mean values of the original dataset"
   ]
  },
  {
   "cell_type": "code",
   "execution_count": 20,
   "id": "2fb73dfd-09b0-43e0-837a-87e1af79fcce",
   "metadata": {},
   "outputs": [
    {
     "name": "stdout",
     "output_type": "stream",
     "text": [
      "               Time        V1        V2        V3        V4        V5  \\\n",
      "Class                                                                   \n",
      "0      94835.058093  0.013439 -0.009829  0.012853 -0.010440  0.006769   \n",
      "1      80450.513742 -4.498280  3.405965 -6.729599  4.472591 -2.957197   \n",
      "\n",
      "             V6        V7        V8        V9  ...       V22       V23  \\\n",
      "Class                                          ...                       \n",
      "0      0.001251  0.010447 -0.002448  0.002613  ... -0.000160  0.000360   \n",
      "1     -1.432518 -5.175912  0.953255 -2.522124  ...  0.086639 -0.096464   \n",
      "\n",
      "            V24       V25       V26       V27       V28      Amount  \\\n",
      "Class                                                                 \n",
      "0      0.000393 -0.000301  0.000065  0.001409  0.000418   88.413575   \n",
      "1     -0.106643  0.040615  0.050456  0.213774  0.078270  123.871860   \n",
      "\n",
      "       Amount_log  Amount_scaled  \n",
      "Class                             \n",
      "0        3.154289       0.007590  \n",
      "1        2.837549      -0.120326  \n",
      "\n",
      "[2 rows x 32 columns]\n"
     ]
    }
   ],
   "source": [
    "print(cc_data.groupby('Class').mean())"
   ]
  },
  {
   "cell_type": "markdown",
   "id": "38af49e6-6e7f-46ff-a515-a8918377d6f2",
   "metadata": {},
   "source": [
    "##### Before building and training the model, we will split the new balanced dataset into train and test. \n",
    "##### X will be all the features from the new dataset and Y will be the target (Class)"
   ]
  },
  {
   "cell_type": "code",
   "execution_count": 21,
   "id": "22b7f5d4-27f1-4149-a819-57e06bfdcc42",
   "metadata": {},
   "outputs": [
    {
     "name": "stdout",
     "output_type": "stream",
     "text": [
      "   Time        V1        V2        V3        V4        V5        V6        V7  \\\n",
      "0   0.0 -1.359807 -0.072781  2.536347  1.378155 -0.338321  0.462388  0.239599   \n",
      "1   0.0  1.191857  0.266151  0.166480  0.448154  0.060018 -0.082361 -0.078803   \n",
      "2   1.0 -1.358354 -1.340163  1.773209  0.379780 -0.503198  1.800499  0.791461   \n",
      "\n",
      "         V8        V9  ...       V21       V22       V23       V24       V25  \\\n",
      "0  0.098698  0.363787  ... -0.018307  0.277838 -0.110474  0.066928  0.128539   \n",
      "1  0.085102 -0.255425  ... -0.225775 -0.638672  0.101288 -0.339846  0.167170   \n",
      "2  0.247676 -1.514654  ...  0.247998  0.771679  0.909412 -0.689281 -0.327642   \n",
      "\n",
      "        V26       V27       V28  Amount  Class  \n",
      "0 -0.189115  0.133558 -0.021053  149.62      0  \n",
      "1  0.125895 -0.008983  0.014724    2.69      0  \n",
      "2 -0.139097 -0.055353 -0.059752  378.66      0  \n",
      "\n",
      "[3 rows x 31 columns]\n"
     ]
    }
   ],
   "source": [
    "print(new_balanced_dataset.head(3))"
   ]
  },
  {
   "cell_type": "code",
   "execution_count": 22,
   "id": "316ecd20-9bbd-4b7b-9775-e313098ee186",
   "metadata": {},
   "outputs": [
    {
     "name": "stdout",
     "output_type": "stream",
     "text": [
      "X:             Time         V1         V2         V3        V4         V5  \\\n",
      "0            0.0  -1.359807  -0.072781   2.536347  1.378155  -0.338321   \n",
      "1            0.0   1.191857   0.266151   0.166480  0.448154   0.060018   \n",
      "2            1.0  -1.358354  -1.340163   1.773209  0.379780  -0.503198   \n",
      "3            1.0  -0.966272  -0.185226   1.792993 -0.863291  -0.010309   \n",
      "4            2.0  -1.158233   0.877737   1.548718  0.403034  -0.407193   \n",
      "...          ...        ...        ...        ...       ...        ...   \n",
      "229712  146022.0   0.908637   2.849024  -5.647343  6.009415   0.216656   \n",
      "15781    27219.0 -25.266355  14.323254 -26.823673  6.349248 -18.664251   \n",
      "251881  155542.0   1.868226   1.363077  -1.994934  4.173516   1.239751   \n",
      "154234  100924.0 -23.984747  16.697832 -22.209875  9.584969 -16.230439   \n",
      "281144  169966.0  -3.113832   0.585864  -5.399730  1.817092  -0.840618   \n",
      "\n",
      "              V6         V7         V8         V9  ...       V20        V21  \\\n",
      "0       0.462388   0.239599   0.098698   0.363787  ...  0.251412  -0.018307   \n",
      "1      -0.082361  -0.078803   0.085102  -0.255425  ... -0.069083  -0.225775   \n",
      "2       1.800499   0.791461   0.247676  -1.514654  ...  0.524980   0.247998   \n",
      "3       1.247203   0.237609   0.377436  -1.387024  ... -0.208038  -0.108300   \n",
      "4       0.095921   0.592941  -0.270533   0.817739  ...  0.408542  -0.009431   \n",
      "...          ...        ...        ...        ...  ...       ...        ...   \n",
      "229712 -2.397014  -1.819308   0.338527  -2.819883  ...  0.241921   0.407260   \n",
      "15781  -4.647403 -17.971212  16.633103  -3.768351  ...  1.658289   1.780701   \n",
      "251881 -0.746186   0.572731  -0.131235  -1.551839  ... -0.172216  -0.301001   \n",
      "154234  2.596333 -33.239328 -21.560039 -10.842526  ...  5.804551 -12.615023   \n",
      "281144 -2.943548  -2.208002   1.058733  -1.632333  ...  0.306271   0.583276   \n",
      "\n",
      "             V22       V23       V24       V25       V26       V27       V28  \\\n",
      "0       0.277838 -0.110474  0.066928  0.128539 -0.189115  0.133558 -0.021053   \n",
      "1      -0.638672  0.101288 -0.339846  0.167170  0.125895 -0.008983  0.014724   \n",
      "2       0.771679  0.909412 -0.689281 -0.327642 -0.139097 -0.055353 -0.059752   \n",
      "3       0.005274 -0.190321 -1.175575  0.647376 -0.221929  0.062723  0.061458   \n",
      "4       0.798278 -0.137458  0.141267 -0.206010  0.502292  0.219422  0.215153   \n",
      "...          ...       ...       ...       ...       ...       ...       ...   \n",
      "229712 -0.397435 -0.080006 -0.168597  0.465058  0.210510  0.648705  0.360224   \n",
      "15781  -1.861318 -1.188167  0.156667  1.768192 -0.219916  1.411855  0.414656   \n",
      "251881 -0.818972  0.206812 -0.263683 -0.114958 -0.240672 -0.006629  0.017258   \n",
      "154234  5.774087  2.750221  0.513411 -1.608804 -0.459624 -4.626127 -0.334561   \n",
      "281144 -0.269209 -0.456108 -0.183659 -0.328168  0.606116  0.884876 -0.253700   \n",
      "\n",
      "        Amount  \n",
      "0       149.62  \n",
      "1         2.69  \n",
      "2       378.66  \n",
      "3       123.50  \n",
      "4        69.99  \n",
      "...        ...  \n",
      "229712    1.18  \n",
      "15781    99.99  \n",
      "251881    3.14  \n",
      "154234    1.00  \n",
      "281144  245.00  \n",
      "\n",
      "[568630 rows x 30 columns]\n",
      "Y: 0         0\n",
      "1         0\n",
      "2         0\n",
      "3         0\n",
      "4         0\n",
      "         ..\n",
      "229712    1\n",
      "15781     1\n",
      "251881    1\n",
      "154234    1\n",
      "281144    1\n",
      "Name: Class, Length: 568630, dtype: int64\n"
     ]
    }
   ],
   "source": [
    "X = new_balanced_dataset.drop(columns='Class', axis=1)\n",
    "Y = new_balanced_dataset['Class']\n",
    "\n",
    "print(\"X:\",X)\n",
    "print(\"Y:\",Y)"
   ]
  },
  {
   "cell_type": "code",
   "execution_count": 23,
   "id": "cff43640-c81a-453d-b85b-d08602d529ba",
   "metadata": {},
   "outputs": [],
   "source": [
    "X_train, X_test, y_train, y_test = train_test_split(X, Y, test_size=0.2, stratify=Y, random_state=RANDOM_SEED)"
   ]
  },
  {
   "cell_type": "code",
   "execution_count": 24,
   "id": "22da4995-bae0-4230-b5a6-4328c6ecd7c3",
   "metadata": {},
   "outputs": [
    {
     "name": "stdout",
     "output_type": "stream",
     "text": [
      "X_train: (454904, 30)\n",
      "X_test: (113726, 30)\n"
     ]
    }
   ],
   "source": [
    "print(\"X_train:\",X_train.shape)\n",
    "print(\"X_test:\",X_test.shape)"
   ]
  },
  {
   "cell_type": "code",
   "execution_count": 25,
   "id": "ee86ee40-5c2d-45b1-ae44-4a07e457dc07",
   "metadata": {},
   "outputs": [
    {
     "name": "stdout",
     "output_type": "stream",
     "text": [
      "Y_train: (454904,)\n",
      "Y_test: (113726,)\n"
     ]
    }
   ],
   "source": [
    "print(\"Y_train:\", y_train.shape)\n",
    "print(\"Y_test:\", y_test.shape)"
   ]
  },
  {
   "cell_type": "code",
   "execution_count": 26,
   "id": "79d0c878",
   "metadata": {},
   "outputs": [
    {
     "name": "stdout",
     "output_type": "stream",
     "text": [
      "Cross validation F1 score: [0.99106668 0.99184813 0.99134655 0.99140281 0.99086495]\n",
      "Average F1 score: 0.991305821263697\n"
     ]
    },
    {
     "name": "stderr",
     "output_type": "stream",
     "text": [
      "/Users/sofiasilva/miniconda3/lib/python3.12/site-packages/sklearn/linear_model/_logistic.py:465: ConvergenceWarning: lbfgs failed to converge (status=1):\n",
      "STOP: TOTAL NO. OF ITERATIONS REACHED LIMIT.\n",
      "\n",
      "Increase the number of iterations (max_iter) or scale the data as shown in:\n",
      "    https://scikit-learn.org/stable/modules/preprocessing.html\n",
      "Please also refer to the documentation for alternative solver options:\n",
      "    https://scikit-learn.org/stable/modules/linear_model.html#logistic-regression\n",
      "  n_iter_i = _check_optimize_result(\n"
     ]
    },
    {
     "name": "stdout",
     "output_type": "stream",
     "text": [
      "Logistic Regression Report:\n",
      "              precision    recall  f1-score   support\n",
      "\n",
      "           0       0.92      0.97      0.95     56863\n",
      "           1       0.97      0.92      0.95     56863\n",
      "\n",
      "    accuracy                           0.95    113726\n",
      "   macro avg       0.95      0.95      0.95    113726\n",
      "weighted avg       0.95      0.95      0.95    113726\n",
      "\n",
      "Decision Tree Report:\n",
      "              precision    recall  f1-score   support\n",
      "\n",
      "           0       1.00      1.00      1.00     56863\n",
      "           1       1.00      1.00      1.00     56863\n",
      "\n",
      "    accuracy                           1.00    113726\n",
      "   macro avg       1.00      1.00      1.00    113726\n",
      "weighted avg       1.00      1.00      1.00    113726\n",
      "\n",
      "Random Forest with Scaling:\n",
      "              precision    recall  f1-score   support\n",
      "\n",
      "           0       0.95      1.00      0.98     56863\n",
      "           1       1.00      0.95      0.98     56863\n",
      "\n",
      "    accuracy                           0.98    113726\n",
      "   macro avg       0.98      0.98      0.98    113726\n",
      "weighted avg       0.98      0.98      0.98    113726\n",
      "\n"
     ]
    }
   ],
   "source": [
    "# Train Logistic Regression and Decision Tree models\n",
    "from sklearn.linear_model import LogisticRegression\n",
    "from sklearn.tree import DecisionTreeClassifier\n",
    "from sklearn.ensemble import RandomForestClassifier\n",
    "from sklearn.model_selection import cross_val_score\n",
    "\n",
    "\n",
    "# Train models\n",
    "lr_model = LogisticRegression(max_iter=1000)\n",
    "dt_model = DecisionTreeClassifier(random_state=42)\n",
    "rf_model = RandomForestClassifier(n_estimators=100, max_depth=10, min_samples_split=5, random_state=RANDOM_SEED)\n",
    "\n",
    "scaler = StandardScaler()\n",
    "X_train_scale = scaler.fit_transform(X_train)\n",
    "X_test_scale = scaler.fit_transform(X_test)\n",
    "\n",
    "#Cross validation\n",
    "cross_validation = cross_val_score(rf_model, X_train_scale, y_train, cv=5, scoring='f1')\n",
    "print(\"Cross validation F1 score:\", cross_validation)\n",
    "print(\"Average F1 score:\", np.mean(cross_validation))\n",
    "\n",
    "lr_model.fit(X_train, y_train)\n",
    "dt_model.fit(X_train, y_train)\n",
    "rf_model.fit(X_train_scale, y_train)\n",
    "\n",
    "\n",
    "#Evaluate models\n",
    "from sklearn.metrics import classification_report\n",
    "\n",
    "print(\"Logistic Regression Report:\")\n",
    "print(classification_report(y_test, lr_model.predict(X_test)))\n",
    "\n",
    "print(\"Decision Tree Report:\")\n",
    "print(classification_report(y_test, dt_model.predict(X_test)))\n",
    "\n",
    "print(\"Random Forest with Scaling:\")\n",
    "print(classification_report(y_test, rf_model.predict(X_test_scale)))\n"
   ]
  },
  {
   "cell_type": "markdown",
   "id": "35709743-1093-42f4-9f9c-0a55791c133f",
   "metadata": {},
   "source": [
    "Peform AUPRC: Importance- AUPRC summarizes how the model balances precision (of all flagged transactions, how many truly were fraud) against recall (of all actual frauds, how many you caught) across every possible probability cutoff\n",
    "\n",
    "Threshold tuning for the F1-score allows for the default decision cutoff of 0.5 to catch more true frauds while keeping false alarms in check."
   ]
  },
  {
   "cell_type": "code",
   "execution_count": 27,
   "id": "40248daf-2306-413c-b9dd-17902b35b359",
   "metadata": {},
   "outputs": [
    {
     "name": "stdout",
     "output_type": "stream",
     "text": [
      "Logistic Regression AUPRC =  0.988\n",
      "Decision Tree AUPRC =  0.999\n",
      "Random Forest AUPRC =  1.0\n",
      "Logistic Regression best threshold = 0.537, F1 = 0.948\n",
      "Decision Tree best threshold = 1.000, F1 = 1.000\n",
      "Random Forest best threshold = 0.181, F1 = 0.991\n",
      "\n",
      "Logistic Regression Report: \n",
      "              precision    recall  f1-score   support\n",
      "\n",
      "           0     0.9251    0.9777    0.9507     56863\n",
      "           1     0.9764    0.9208    0.9478     56863\n",
      "\n",
      "    accuracy                         0.9493    113726\n",
      "   macro avg     0.9507    0.9493    0.9492    113726\n",
      "weighted avg     0.9507    0.9493    0.9492    113726\n",
      "\n",
      "------------------------------------------------------\n",
      "Decision Tree Report: \n",
      "              precision    recall  f1-score   support\n",
      "\n",
      "           0     1.0000    0.9994    0.9997     56863\n",
      "           1     0.9994    1.0000    0.9997     56863\n",
      "\n",
      "    accuracy                         0.9997    113726\n",
      "   macro avg     0.9997    0.9997    0.9997    113726\n",
      "weighted avg     0.9997    0.9997    0.9997    113726\n",
      "\n",
      "------------------------------------------------------\n",
      "Random Forest Report: \n",
      "              precision    recall  f1-score   support\n",
      "\n",
      "           0     0.9916    0.9907    0.9911     56863\n",
      "           1     0.9907    0.9916    0.9911     56863\n",
      "\n",
      "    accuracy                         0.9911    113726\n",
      "   macro avg     0.9911    0.9911    0.9911    113726\n",
      "weighted avg     0.9911    0.9911    0.9911    113726\n",
      "\n",
      "------------------------------------------------------\n"
     ]
    }
   ],
   "source": [
    "#AUPRC & Threshold Tuning\n",
    "from sklearn.metrics import average_precision_score\n",
    "from sklearn.metrics import precision_recall_curve\n",
    "\n",
    "# Get probability scores\n",
    "y_scores_lr = lr_model.predict_proba(X_test)[:,1]\n",
    "y_scores_dt = dt_model.predict_proba(X_test)[:,1]\n",
    "y_scores_rf = rf_model.predict_proba(X_test_scale)[:,1]\n",
    "\n",
    "#Finding AUPRC\n",
    "print(\"Logistic Regression AUPRC = \", average_precision_score(y_test, y_scores_lr).round(3))\n",
    "print(\"Decision Tree AUPRC = \", average_precision_score(y_test, y_scores_dt).round(3))\n",
    "print(\"Random Forest AUPRC = \",average_precision_score(y_test, y_scores_rf).round(3))\n",
    "\n",
    "#Find best threshold for F1\n",
    "#Logistic Regression\n",
    "precision_lr, recall_lr, thres_lr = precision_recall_curve(y_test, y_scores_lr)\n",
    "f1_lr = 2 * (precision_lr * recall_lr) / (precision_lr + recall_lr)\n",
    "best_idx_lr = np.nanargmax(f1_lr[:-1])\n",
    "best_thres_lr, best_f1_lr = thres_lr[best_idx_lr], f1_lr[best_idx_lr]\n",
    "print(f\"Logistic Regression best threshold = {best_thres_lr:.3f}, F1 = {best_f1_lr:.3f}\")\n",
    "\n",
    "#Decision Tree\n",
    "precision_dt, recall_dt, thres_dt = precision_recall_curve(y_test, y_scores_dt)\n",
    "f1_dt = 2 * (precision_dt * recall_dt) / (precision_dt + recall_dt)\n",
    "best_idx_dt = np.nanargmax(f1_dt[:-1])\n",
    "best_thres_dt, best_f1_dt = thres_dt[best_idx_dt], f1_dt[best_idx_dt]\n",
    "print(f\"Decision Tree best threshold = {best_thres_dt:.3f}, F1 = {best_f1_dt:.3f}\")\n",
    "\n",
    "#Random Forest\n",
    "precision_rf, recall_rf, thres_rf = precision_recall_curve(y_test, y_scores_rf)\n",
    "f1_rf = 2 * (precision_rf * recall_rf) / (precision_rf + recall_rf)\n",
    "best_idx_rf = np.nanargmax(f1_rf[:-1])\n",
    "best_thres_rf, best_f1_rf = thres_rf[best_idx_rf], f1_rf[best_idx_rf]\n",
    "print(f\"Random Forest best threshold = {best_thres_rf:.3f}, F1 = {best_f1_rf:.3f}\")\n",
    "\n",
    "#Final reports at best thresholds\n",
    "y_pred_lr = (y_scores_lr >= best_thres_lr).astype(int)\n",
    "y_pred_dt = (y_scores_dt >= best_thres_dt).astype(int)\n",
    "y_pred_rf = (y_scores_rf >= best_thres_rf).astype(int)\n",
    "print(\"\\nLogistic Regression Report: \")\n",
    "print(classification_report(y_test, y_pred_lr, digits=4))\n",
    "print(\"------------------------------------------------------\")\n",
    "\n",
    "print(\"Decision Tree Report: \")\n",
    "print(classification_report(y_test, y_pred_dt, digits=4))\n",
    "print(\"------------------------------------------------------\")\n",
    "\n",
    "print(\"Random Forest Report: \")\n",
    "print(classification_report(y_test, y_pred_rf, digits=4))\n",
    "print(\"------------------------------------------------------\")\n"
   ]
  },
  {
   "cell_type": "code",
   "execution_count": 28,
   "id": "8ef090b6-11da-486b-afac-6856f51e65c7",
   "metadata": {},
   "outputs": [
    {
     "data": {
      "image/png": "[encoded data removed]",
      "text/plain": [
       "<Figure size 400x300 with 2 Axes>"
      ]
     },
     "metadata": {},
     "output_type": "display_data"
    },
    {
     "data": {
      "image/png": "[encoded data removed]",
      "text/plain": [
       "<Figure size 400x300 with 2 Axes>"
      ]
     },
     "metadata": {},
     "output_type": "display_data"
    },
    {
     "data": {
      "image/png": "[encoded data removed]",
      "text/plain": [
       "<Figure size 400x300 with 2 Axes>"
      ]
     },
     "metadata": {},
     "output_type": "display_data"
    }
   ],
   "source": [
    "#Logistic Regression Confusion Matrix\n",
    "cm_lr = confusion_matrix(y_test, y_pred_lr)\n",
    "plt.figure(figsize=(4,3))\n",
    "sns.heatmap(\n",
    "    cm_lr, \n",
    "    annot=True, fmt='d', \n",
    "    cmap='Blues', \n",
    "    xticklabels=['Non-Fraud','Fraud'], \n",
    "    yticklabels=['Non-Fraud','Fraud']\n",
    ")\n",
    "plt.ylabel('True Label')\n",
    "plt.xlabel('Predicted Label')\n",
    "plt.title('Logistic Regression Confusion Matrix')\n",
    "plt.show()\n",
    "\n",
    "#Decision Tree Confusion Matrix\n",
    "cm_dt = confusion_matrix(y_test, y_pred_dt)\n",
    "plt.figure(figsize=(4,3))\n",
    "sns.heatmap(\n",
    "    cm_dt, \n",
    "    annot=True, fmt='d', \n",
    "    cmap='Greens', \n",
    "    xticklabels=['Non-Fraud','Fraud'], \n",
    "    yticklabels=['Non-Fraud','Fraud']\n",
    ")\n",
    "plt.ylabel('True Label')\n",
    "plt.xlabel('Predicted Label')\n",
    "plt.title('Decision Tree Confusion Matrix')\n",
    "plt.show()\n",
    "\n",
    "#Random Forest Confusion Matrix\n",
    "cm_rf = confusion_matrix(y_test, y_pred_rf)\n",
    "plt.figure(figsize=(4,3))\n",
    "sns.heatmap(\n",
    "    cm_rf, \n",
    "    annot=True, fmt='d', \n",
    "    cmap='Reds', \n",
    "    xticklabels=['Non-Fraud','Fraud'], \n",
    "    yticklabels=['Non-Fraud','Fraud']\n",
    ")\n",
    "plt.ylabel('True Label')\n",
    "plt.xlabel('Predicted Label')\n",
    "plt.title('Random Forest Confusion Matrix')\n",
    "plt.show()"
   ]
  },
  {
   "cell_type": "markdown",
   "id": "34d79c1d-8b1e-4932-ba69-249b16bf5da6",
   "metadata": {},
   "source": [
    "Sample Implementation Examples"
   ]
  },
  {
   "cell_type": "code",
   "execution_count": 29,
   "id": "0d55a5fa-05ff-43b6-8c53-702bec7f9a59",
   "metadata": {},
   "outputs": [
    {
     "name": "stdout",
     "output_type": "stream",
     "text": [
      "---- Logistic Regression ----\n",
      "TP Samples\n"
     ]
    },
    {
     "data": {
      "text/html": [
       "<table border=\"1\" class=\"dataframe\">\n",
       "  <thead>\n",
       "    <tr style=\"text-align: right;\">\n",
       "      <th>Row</th>\n",
       "      <th>Score_LR</th>\n",
       "      <th>Pred_LR</th>\n",
       "      <th>Actual</th>\n",
       "      <th>Outcome</th>\n",
       "    </tr>\n",
       "  </thead>\n",
       "  <tbody>\n",
       "    <tr>\n",
       "      <td>198868</td>\n",
       "      <td>0.999929</td>\n",
       "      <td>1</td>\n",
       "      <td>1</td>\n",
       "      <td>TP</td>\n",
       "    </tr>\n",
       "    <tr>\n",
       "      <td>154454</td>\n",
       "      <td>1.000000</td>\n",
       "      <td>1</td>\n",
       "      <td>1</td>\n",
       "      <td>TP</td>\n",
       "    </tr>\n",
       "    <tr>\n",
       "      <td>144104</td>\n",
       "      <td>1.000000</td>\n",
       "      <td>1</td>\n",
       "      <td>1</td>\n",
       "      <td>TP</td>\n",
       "    </tr>\n",
       "  </tbody>\n",
       "</table>"
      ],
      "text/plain": [
       "<IPython.core.display.HTML object>"
      ]
     },
     "metadata": {},
     "output_type": "display_data"
    },
    {
     "name": "stdout",
     "output_type": "stream",
     "text": [
      "FN Samples\n"
     ]
    },
    {
     "data": {
      "text/html": [
       "<table border=\"1\" class=\"dataframe\">\n",
       "  <thead>\n",
       "    <tr style=\"text-align: right;\">\n",
       "      <th>Row</th>\n",
       "      <th>Score_LR</th>\n",
       "      <th>Pred_LR</th>\n",
       "      <th>Actual</th>\n",
       "      <th>Outcome</th>\n",
       "    </tr>\n",
       "  </thead>\n",
       "  <tbody>\n",
       "    <tr>\n",
       "      <td>101509</td>\n",
       "      <td>0.092127</td>\n",
       "      <td>0</td>\n",
       "      <td>1</td>\n",
       "      <td>FN</td>\n",
       "    </tr>\n",
       "    <tr>\n",
       "      <td>118308</td>\n",
       "      <td>0.265713</td>\n",
       "      <td>0</td>\n",
       "      <td>1</td>\n",
       "      <td>FN</td>\n",
       "    </tr>\n",
       "    <tr>\n",
       "      <td>100623</td>\n",
       "      <td>0.061700</td>\n",
       "      <td>0</td>\n",
       "      <td>1</td>\n",
       "      <td>FN</td>\n",
       "    </tr>\n",
       "  </tbody>\n",
       "</table>"
      ],
      "text/plain": [
       "<IPython.core.display.HTML object>"
      ]
     },
     "metadata": {},
     "output_type": "display_data"
    },
    {
     "name": "stdout",
     "output_type": "stream",
     "text": [
      "FP Samples\n"
     ]
    },
    {
     "data": {
      "text/html": [
       "<table border=\"1\" class=\"dataframe\">\n",
       "  <thead>\n",
       "    <tr style=\"text-align: right;\">\n",
       "      <th>Row</th>\n",
       "      <th>Score_LR</th>\n",
       "      <th>Pred_LR</th>\n",
       "      <th>Actual</th>\n",
       "      <th>Outcome</th>\n",
       "    </tr>\n",
       "  </thead>\n",
       "  <tbody>\n",
       "    <tr>\n",
       "      <td>68493</td>\n",
       "      <td>0.579358</td>\n",
       "      <td>1</td>\n",
       "      <td>0</td>\n",
       "      <td>FP</td>\n",
       "    </tr>\n",
       "    <tr>\n",
       "      <td>169679</td>\n",
       "      <td>0.619275</td>\n",
       "      <td>1</td>\n",
       "      <td>0</td>\n",
       "      <td>FP</td>\n",
       "    </tr>\n",
       "    <tr>\n",
       "      <td>8555</td>\n",
       "      <td>0.576498</td>\n",
       "      <td>1</td>\n",
       "      <td>0</td>\n",
       "      <td>FP</td>\n",
       "    </tr>\n",
       "  </tbody>\n",
       "</table>"
      ],
      "text/plain": [
       "<IPython.core.display.HTML object>"
      ]
     },
     "metadata": {},
     "output_type": "display_data"
    },
    {
     "name": "stdout",
     "output_type": "stream",
     "text": [
      "------- Decision Tree -------\n",
      "TP Samples\n"
     ]
    },
    {
     "data": {
      "text/html": [
       "<table border=\"1\" class=\"dataframe\">\n",
       "  <thead>\n",
       "    <tr style=\"text-align: right;\">\n",
       "      <th>Row</th>\n",
       "      <th>Score_DT</th>\n",
       "      <th>Pred_DT</th>\n",
       "      <th>Actual</th>\n",
       "      <th>Outcome</th>\n",
       "    </tr>\n",
       "  </thead>\n",
       "  <tbody>\n",
       "    <tr>\n",
       "      <td>198868</td>\n",
       "      <td>1.0</td>\n",
       "      <td>1</td>\n",
       "      <td>1</td>\n",
       "      <td>TP</td>\n",
       "    </tr>\n",
       "    <tr>\n",
       "      <td>154454</td>\n",
       "      <td>1.0</td>\n",
       "      <td>1</td>\n",
       "      <td>1</td>\n",
       "      <td>TP</td>\n",
       "    </tr>\n",
       "    <tr>\n",
       "      <td>101509</td>\n",
       "      <td>1.0</td>\n",
       "      <td>1</td>\n",
       "      <td>1</td>\n",
       "      <td>TP</td>\n",
       "    </tr>\n",
       "  </tbody>\n",
       "</table>"
      ],
      "text/plain": [
       "<IPython.core.display.HTML object>"
      ]
     },
     "metadata": {},
     "output_type": "display_data"
    },
    {
     "name": "stdout",
     "output_type": "stream",
     "text": [
      "FN Samples\n"
     ]
    },
    {
     "data": {
      "text/html": [
       "<table border=\"1\" class=\"dataframe\">\n",
       "  <thead>\n",
       "    <tr style=\"text-align: right;\">\n",
       "      <th>Row</th>\n",
       "      <th>Score_DT</th>\n",
       "      <th>Pred_DT</th>\n",
       "      <th>Actual</th>\n",
       "      <th>Outcome</th>\n",
       "    </tr>\n",
       "  </thead>\n",
       "  <tbody>\n",
       "  </tbody>\n",
       "</table>"
      ],
      "text/plain": [
       "<IPython.core.display.HTML object>"
      ]
     },
     "metadata": {},
     "output_type": "display_data"
    },
    {
     "name": "stdout",
     "output_type": "stream",
     "text": [
      "FP Samples\n"
     ]
    },
    {
     "data": {
      "text/html": [
       "<table border=\"1\" class=\"dataframe\">\n",
       "  <thead>\n",
       "    <tr style=\"text-align: right;\">\n",
       "      <th>Row</th>\n",
       "      <th>Score_DT</th>\n",
       "      <th>Pred_DT</th>\n",
       "      <th>Actual</th>\n",
       "      <th>Outcome</th>\n",
       "    </tr>\n",
       "  </thead>\n",
       "  <tbody>\n",
       "    <tr>\n",
       "      <td>154466</td>\n",
       "      <td>1.0</td>\n",
       "      <td>1</td>\n",
       "      <td>0</td>\n",
       "      <td>FP</td>\n",
       "    </tr>\n",
       "    <tr>\n",
       "      <td>242378</td>\n",
       "      <td>1.0</td>\n",
       "      <td>1</td>\n",
       "      <td>0</td>\n",
       "      <td>FP</td>\n",
       "    </tr>\n",
       "    <tr>\n",
       "      <td>201509</td>\n",
       "      <td>1.0</td>\n",
       "      <td>1</td>\n",
       "      <td>0</td>\n",
       "      <td>FP</td>\n",
       "    </tr>\n",
       "  </tbody>\n",
       "</table>"
      ],
      "text/plain": [
       "<IPython.core.display.HTML object>"
      ]
     },
     "metadata": {},
     "output_type": "display_data"
    },
    {
     "name": "stdout",
     "output_type": "stream",
     "text": [
      "------- Random Forest -------\n",
      "TP Samples\n"
     ]
    },
    {
     "data": {
      "text/html": [
       "<table border=\"1\" class=\"dataframe\">\n",
       "  <thead>\n",
       "    <tr style=\"text-align: right;\">\n",
       "      <th>Row</th>\n",
       "      <th>Score_RF</th>\n",
       "      <th>Pred_RF</th>\n",
       "      <th>Actual</th>\n",
       "      <th>Outcome</th>\n",
       "    </tr>\n",
       "  </thead>\n",
       "  <tbody>\n",
       "    <tr>\n",
       "      <td>198868</td>\n",
       "      <td>0.945685</td>\n",
       "      <td>1</td>\n",
       "      <td>1</td>\n",
       "      <td>TP</td>\n",
       "    </tr>\n",
       "    <tr>\n",
       "      <td>154454</td>\n",
       "      <td>0.999609</td>\n",
       "      <td>1</td>\n",
       "      <td>1</td>\n",
       "      <td>TP</td>\n",
       "    </tr>\n",
       "    <tr>\n",
       "      <td>101509</td>\n",
       "      <td>0.523766</td>\n",
       "      <td>1</td>\n",
       "      <td>1</td>\n",
       "      <td>TP</td>\n",
       "    </tr>\n",
       "  </tbody>\n",
       "</table>"
      ],
      "text/plain": [
       "<IPython.core.display.HTML object>"
      ]
     },
     "metadata": {},
     "output_type": "display_data"
    },
    {
     "name": "stdout",
     "output_type": "stream",
     "text": [
      "FN Samples\n"
     ]
    },
    {
     "data": {
      "text/html": [
       "<table border=\"1\" class=\"dataframe\">\n",
       "  <thead>\n",
       "    <tr style=\"text-align: right;\">\n",
       "      <th>Row</th>\n",
       "      <th>Score_RF</th>\n",
       "      <th>Pred_RF</th>\n",
       "      <th>Actual</th>\n",
       "      <th>Outcome</th>\n",
       "    </tr>\n",
       "  </thead>\n",
       "  <tbody>\n",
       "    <tr>\n",
       "      <td>68633</td>\n",
       "      <td>0.109895</td>\n",
       "      <td>0</td>\n",
       "      <td>1</td>\n",
       "      <td>FN</td>\n",
       "    </tr>\n",
       "    <tr>\n",
       "      <td>95534</td>\n",
       "      <td>0.141505</td>\n",
       "      <td>0</td>\n",
       "      <td>1</td>\n",
       "      <td>FN</td>\n",
       "    </tr>\n",
       "    <tr>\n",
       "      <td>95534</td>\n",
       "      <td>0.141505</td>\n",
       "      <td>0</td>\n",
       "      <td>1</td>\n",
       "      <td>FN</td>\n",
       "    </tr>\n",
       "  </tbody>\n",
       "</table>"
      ],
      "text/plain": [
       "<IPython.core.display.HTML object>"
      ]
     },
     "metadata": {},
     "output_type": "display_data"
    },
    {
     "name": "stdout",
     "output_type": "stream",
     "text": [
      "FP Samples\n"
     ]
    },
    {
     "data": {
      "text/html": [
       "<table border=\"1\" class=\"dataframe\">\n",
       "  <thead>\n",
       "    <tr style=\"text-align: right;\">\n",
       "      <th>Row</th>\n",
       "      <th>Score_RF</th>\n",
       "      <th>Pred_RF</th>\n",
       "      <th>Actual</th>\n",
       "      <th>Outcome</th>\n",
       "    </tr>\n",
       "  </thead>\n",
       "  <tbody>\n",
       "    <tr>\n",
       "      <td>272754</td>\n",
       "      <td>0.248024</td>\n",
       "      <td>1</td>\n",
       "      <td>0</td>\n",
       "      <td>FP</td>\n",
       "    </tr>\n",
       "    <tr>\n",
       "      <td>18066</td>\n",
       "      <td>0.182951</td>\n",
       "      <td>1</td>\n",
       "      <td>0</td>\n",
       "      <td>FP</td>\n",
       "    </tr>\n",
       "    <tr>\n",
       "      <td>181246</td>\n",
       "      <td>0.182263</td>\n",
       "      <td>1</td>\n",
       "      <td>0</td>\n",
       "      <td>FP</td>\n",
       "    </tr>\n",
       "  </tbody>\n",
       "</table>"
      ],
      "text/plain": [
       "<IPython.core.display.HTML object>"
      ]
     },
     "metadata": {},
     "output_type": "display_data"
    }
   ],
   "source": [
    "from IPython.display import HTML\n",
    "choices = ['TP','FP','FN']\n",
    "#Logistic Regression\n",
    "results_lr = pd.DataFrame({\n",
    "    'Row':      X_test.index,\n",
    "    'Score_LR': y_scores_lr,\n",
    "    'Pred_LR':  y_pred_lr,\n",
    "    'Actual':   y_test.values\n",
    "})\n",
    "conds_lr = [\n",
    "    #TP\n",
    "    (results_lr['Actual'] == 1) & (results_lr['Pred_LR'] == 1),\n",
    "    #FP\n",
    "    (results_lr['Actual'] == 0) & (results_lr['Pred_LR'] == 1),\n",
    "    #FN\n",
    "    (results_lr['Actual'] == 1) & (results_lr['Pred_LR'] == 0)\n",
    "]\n",
    "results_lr['Outcome'] = np.select(conds_lr, choices, default='TN')\n",
    "print(\"---- Logistic Regression ----\")\n",
    "for out in ['TP','FN','FP']:\n",
    "    print(f\"{out} Samples\")\n",
    "    subset = (\n",
    "        results_lr[results_lr['Outcome'] == out]\n",
    "          .loc[:, ['Row','Score_LR','Pred_LR','Actual','Outcome']]\n",
    "          .head(3)\n",
    "    )\n",
    "    display(HTML(subset.to_html(index=False)))\n",
    "\n",
    "#Decision Tree\n",
    "results_dt = pd.DataFrame({\n",
    "    'Row':      X_test.index,\n",
    "    'Score_DT': y_scores_dt,\n",
    "    'Pred_DT':  y_pred_dt,\n",
    "    'Actual':   y_test.values\n",
    "})\n",
    "conds_dt = [\n",
    "    #TP\n",
    "    (results_dt['Actual'] == 1)&(results_dt['Pred_DT'] == 1),\n",
    "    #FP\n",
    "    (results_dt['Actual'] == 0)&(results_dt['Pred_DT'] == 1),\n",
    "    #FN\n",
    "    (results_dt['Actual'] == 1)&(results_dt['Pred_DT'] == 0)\n",
    "]\n",
    "results_dt['Outcome'] = np.select(conds_dt, choices, default='TN')\n",
    "print(\"------- Decision Tree -------\")\n",
    "for out in ['TP','FN','FP']:\n",
    "    print(f\"{out} Samples\")\n",
    "    subset = (\n",
    "        results_dt[results_dt['Outcome'] == out]\n",
    "          .loc[:, ['Row','Score_DT','Pred_DT','Actual','Outcome']]\n",
    "          .head(3)\n",
    "    )\n",
    "    display(HTML(subset.to_html(index=False)))\n",
    "\n",
    "#Random Forest\n",
    "results_rf = pd.DataFrame({\n",
    "    'Row':      X_test.index,\n",
    "    'Score_RF': y_scores_rf,\n",
    "    'Pred_RF':  y_pred_rf,\n",
    "    'Actual':   y_test.values\n",
    "})\n",
    "conds_rf = [\n",
    "    #TP\n",
    "    (results_rf['Actual'] == 1)&(results_rf['Pred_RF'] == 1),\n",
    "    #FP\n",
    "    (results_rf['Actual'] == 0)&(results_rf['Pred_RF'] == 1),\n",
    "    #FN\n",
    "    (results_rf['Actual'] == 1)&(results_rf['Pred_RF'] == 0)\n",
    "]\n",
    "results_rf['Outcome'] = np.select(conds_rf, choices, default='TN')\n",
    "print(\"------- Random Forest -------\")\n",
    "for out in ['TP','FN','FP']:\n",
    "    print(f\"{out} Samples\")\n",
    "    subset = (\n",
    "        results_rf[results_rf['Outcome'] == out]\n",
    "          .loc[:, ['Row','Score_RF','Pred_RF','Actual','Outcome']]\n",
    "          .head(3)\n",
    "    )\n",
    "    display(HTML(subset.to_html(index=False)))"
   ]
  },
  {
   "cell_type": "code",
   "execution_count": null,
   "id": "525f4e25-0d64-4d2d-bf16-55e4d7edd835",
   "metadata": {},
   "outputs": [],
   "source": []
  }
 ],
 "metadata": {
  "kernelspec": {
   "display_name": "Python 3 (ipykernel)",
   "language": "python",
   "name": "python3"
  },
  "language_info": {
   "codemirror_mode": {
    "name": "ipython",
    "version": 3
   },
   "file_extension": ".py",
   "mimetype": "text/x-python",
   "name": "python",
   "nbconvert_exporter": "python",
   "pygments_lexer": "ipython3",
   "version": "3.12.4"
  }
 },
 "nbformat": 4,
 "nbformat_minor": 5
}
