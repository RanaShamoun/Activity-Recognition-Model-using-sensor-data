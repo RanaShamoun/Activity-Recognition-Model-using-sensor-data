{
  "cells": [
    {
      "cell_type": "markdown",
      "id": "32249b0e-5a95-4e82-8f67-de9b9dd568c8",
      "metadata": {
        "id": "32249b0e-5a95-4e82-8f67-de9b9dd568c8"
      },
      "source": [
        "# Group project\n",
        "## Group number:9\n",
        "## Project- Credit Card Fraud Detection\n",
        "## CMPE-255\n"
      ]
    },
    {
      "cell_type": "code",
      "execution_count": null,
      "id": "89a9925b-822b-4618-9976-ffcf5bb09e04",
      "metadata": {
        "id": "89a9925b-822b-4618-9976-ffcf5bb09e04"
      },
      "outputs": [],
      "source": [
        "import numpy as np\n",
        "import pandas as pd\n",
        "import seaborn as sns\n",
        "import matplotlib.pyplot as plt\n",
        "from sklearn.model_selection import train_test_split, StratifiedKFold, GridSearchCV\n",
        "from sklearn.preprocessing import StandardScaler, RobustScaler\n",
        "from sklearn.compose import ColumnTransformer\n",
        "from sklearn.pipeline import Pipeline\n",
        "from sklearn.metrics import classification_report, confusion_matrix, precision_recall_curve, average_precision_score\n",
        "from sklearn.linear_model import LogisticRegression\n",
        "from sklearn.tree import DecisionTreeClassifier\n",
        "from sklearn.ensemble import RandomForestClassifier\n",
        "from imblearn.pipeline import Pipeline as ImbPipeline\n",
        "from imblearn.over_sampling import SMOTE"
      ]
    },
    {
      "cell_type": "markdown",
      "id": "a8f552b7-d60d-478f-9c81-c47dfb6c9eac",
      "metadata": {
        "id": "a8f552b7-d60d-478f-9c81-c47dfb6c9eac"
      },
      "source": [
        "### Data loading and data analysis\n",
        "#####  Kaggle dataset is used for this project.\n",
        "##### https://www.kaggle.com/datasets/mlg-ulb/creditcardfraud?resource=download"
      ]
    },
    {
      "cell_type": "code",
      "execution_count": null,
      "id": "d5b81734-54ab-44fd-9df5-4d85ae6190da",
      "metadata": {
        "colab": {
          "base_uri": "https://localhost:8080/"
        },
        "id": "d5b81734-54ab-44fd-9df5-4d85ae6190da",
        "outputId": "73b412f8-6fae-476a-b295-eeed760ea283"
      },
      "outputs": [
        {
          "output_type": "stream",
          "name": "stdout",
          "text": [
            "Shape after removing duplicates: (283726, 31)\n"
          ]
        }
      ],
      "source": [
        "RANDOM_SEED = 42\n",
        "cc_data = pd.read_csv('creditcard.csv')\n",
        "cc_data = cc_data.drop_duplicates()  # Drop duplicates immediately\n",
        "print(f\"Shape after removing duplicates: {cc_data.shape}\")"
      ]
    },
    {
      "cell_type": "code",
      "execution_count": null,
      "id": "ea18aa95-ec9a-4fdf-8666-60d36742779a",
      "metadata": {
        "colab": {
          "base_uri": "https://localhost:8080/"
        },
        "id": "ea18aa95-ec9a-4fdf-8666-60d36742779a",
        "outputId": "bdfd5a66-18b4-4f7d-ce3b-d530b45c626c"
      },
      "outputs": [
        {
          "output_type": "stream",
          "name": "stdout",
          "text": [
            "            Time        V1        V2        V3        V4        V5        V6  \\\n",
            "284804  172788.0  1.919565 -0.301254 -3.249640 -0.557828  2.630515  3.031260   \n",
            "284805  172788.0 -0.240440  0.530483  0.702510  0.689799 -0.377961  0.623708   \n",
            "284806  172792.0 -0.533413 -0.189733  0.703337 -0.506271 -0.012546 -0.649617   \n",
            "\n",
            "              V7        V8        V9  ...       V21       V22       V23  \\\n",
            "284804 -0.296827  0.708417  0.432454  ...  0.232045  0.578229 -0.037501   \n",
            "284805 -0.686180  0.679145  0.392087  ...  0.265245  0.800049 -0.163298   \n",
            "284806  1.577006 -0.414650  0.486180  ...  0.261057  0.643078  0.376777   \n",
            "\n",
            "             V24       V25       V26       V27       V28  Amount  Class  \n",
            "284804  0.640134  0.265745 -0.087371  0.004455 -0.026561   67.88      0  \n",
            "284805  0.123205 -0.569159  0.546668  0.108821  0.104533   10.00      0  \n",
            "284806  0.008797 -0.473649 -0.818267 -0.002415  0.013649  217.00      0  \n",
            "\n",
            "[3 rows x 31 columns]\n"
          ]
        }
      ],
      "source": [
        "#print the last three rows\n",
        "print(cc_data.tail(3))"
      ]
    },
    {
      "cell_type": "code",
      "execution_count": null,
      "id": "04f2ac0d-abf9-4c87-b6a9-c5a621e912f2",
      "metadata": {
        "colab": {
          "base_uri": "https://localhost:8080/"
        },
        "id": "04f2ac0d-abf9-4c87-b6a9-c5a621e912f2",
        "outputId": "48fff553-a6d9-4536-b895-3ebd2dd64aab"
      },
      "outputs": [
        {
          "output_type": "stream",
          "name": "stdout",
          "text": [
            "<class 'pandas.core.frame.DataFrame'>\n",
            "Index: 283726 entries, 0 to 284806\n",
            "Data columns (total 31 columns):\n",
            " #   Column  Non-Null Count   Dtype  \n",
            "---  ------  --------------   -----  \n",
            " 0   Time    283726 non-null  float64\n",
            " 1   V1      283726 non-null  float64\n",
            " 2   V2      283726 non-null  float64\n",
            " 3   V3      283726 non-null  float64\n",
            " 4   V4      283726 non-null  float64\n",
            " 5   V5      283726 non-null  float64\n",
            " 6   V6      283726 non-null  float64\n",
            " 7   V7      283726 non-null  float64\n",
            " 8   V8      283726 non-null  float64\n",
            " 9   V9      283726 non-null  float64\n",
            " 10  V10     283726 non-null  float64\n",
            " 11  V11     283726 non-null  float64\n",
            " 12  V12     283726 non-null  float64\n",
            " 13  V13     283726 non-null  float64\n",
            " 14  V14     283726 non-null  float64\n",
            " 15  V15     283726 non-null  float64\n",
            " 16  V16     283726 non-null  float64\n",
            " 17  V17     283726 non-null  float64\n",
            " 18  V18     283726 non-null  float64\n",
            " 19  V19     283726 non-null  float64\n",
            " 20  V20     283726 non-null  float64\n",
            " 21  V21     283726 non-null  float64\n",
            " 22  V22     283726 non-null  float64\n",
            " 23  V23     283726 non-null  float64\n",
            " 24  V24     283726 non-null  float64\n",
            " 25  V25     283726 non-null  float64\n",
            " 26  V26     283726 non-null  float64\n",
            " 27  V27     283726 non-null  float64\n",
            " 28  V28     283726 non-null  float64\n",
            " 29  Amount  283726 non-null  float64\n",
            " 30  Class   283726 non-null  int64  \n",
            "dtypes: float64(30), int64(1)\n",
            "memory usage: 69.3 MB\n",
            "Columns info: None\n"
          ]
        }
      ],
      "source": [
        "print(\"Columns info:\",cc_data.info())"
      ]
    },
    {
      "cell_type": "markdown",
      "id": "853af0e0-40bd-4c85-a44e-63cee2b29e80",
      "metadata": {
        "id": "853af0e0-40bd-4c85-a44e-63cee2b29e80"
      },
      "source": [
        "#### Counting the number of duplicate rows and checking for missing values\n",
        "##### Number of duplicate rows is 1081\n",
        "##### There are no missing values"
      ]
    },
    {
      "cell_type": "code",
      "execution_count": null,
      "id": "b21c6bbc-0169-4c99-a5cb-a24b46ab7532",
      "metadata": {
        "colab": {
          "base_uri": "https://localhost:8080/"
        },
        "id": "b21c6bbc-0169-4c99-a5cb-a24b46ab7532",
        "outputId": "ba88141b-61e3-4f7c-ca21-4d33edf608bc"
      },
      "outputs": [
        {
          "output_type": "stream",
          "name": "stdout",
          "text": [
            "Missing values: V1               0\n",
            "V2               0\n",
            "V3               0\n",
            "V4               0\n",
            "V5               0\n",
            "V6               0\n",
            "V7               0\n",
            "V8               0\n",
            "V9               0\n",
            "V10              0\n",
            "V11              0\n",
            "V12              0\n",
            "V13              0\n",
            "V14              0\n",
            "V15              0\n",
            "V16              0\n",
            "V17              0\n",
            "V18              0\n",
            "V19              0\n",
            "V20              0\n",
            "V21              0\n",
            "V22              0\n",
            "V23              0\n",
            "V24              0\n",
            "V25              0\n",
            "V26              0\n",
            "V27              0\n",
            "V28              0\n",
            "Amount           0\n",
            "Class            0\n",
            "Amount_log       0\n",
            "Amount_scaled    0\n",
            "Time_diff        0\n",
            "Hour_sin         0\n",
            "Hour_cos         0\n",
            "dtype: int64\n"
          ]
        }
      ],
      "source": [
        "print(\"Missing values:\", cc_data.isnull().sum())"
      ]
    },
    {
      "cell_type": "markdown",
      "id": "08444ae5-beb7-4ec0-a021-5f33ccde4b85",
      "metadata": {
        "id": "08444ae5-beb7-4ec0-a021-5f33ccde4b85"
      },
      "source": [
        "#### Store fraud transactions in a varaible named fraud and non fraud transactions in a varialbe named non fraud"
      ]
    },
    {
      "cell_type": "markdown",
      "id": "96a74332-7e25-4a39-92f7-530dba04e104",
      "metadata": {
        "id": "96a74332-7e25-4a39-92f7-530dba04e104"
      },
      "source": [
        "#### Statistics summary and Visualizion of the data distribution"
      ]
    },
    {
      "cell_type": "code",
      "execution_count": null,
      "id": "af166cde-b213-4d13-9abf-512d6ca68ea9",
      "metadata": {
        "colab": {
          "base_uri": "https://localhost:8080/"
        },
        "id": "af166cde-b213-4d13-9abf-512d6ca68ea9",
        "outputId": "a461ff89-925c-4776-af78-3492474e1e4e"
      },
      "outputs": [
        {
          "output_type": "stream",
          "name": "stdout",
          "text": [
            "                Time             V1             V2             V3  \\\n",
            "count  283726.000000  283726.000000  283726.000000  283726.000000   \n",
            "mean    94811.077600       0.005917      -0.004135       0.001613   \n",
            "std     47481.047891       1.948026       1.646703       1.508682   \n",
            "min         0.000000     -56.407510     -72.715728     -48.325589   \n",
            "25%     54204.750000      -0.915951      -0.600321      -0.889682   \n",
            "50%     84692.500000       0.020384       0.063949       0.179963   \n",
            "75%    139298.000000       1.316068       0.800283       1.026960   \n",
            "max    172792.000000       2.454930      22.057729       9.382558   \n",
            "\n",
            "                  V4             V5             V6             V7  \\\n",
            "count  283726.000000  283726.000000  283726.000000  283726.000000   \n",
            "mean       -0.002966       0.001828      -0.001139       0.001801   \n",
            "std         1.414184       1.377008       1.331931       1.227664   \n",
            "min        -5.683171    -113.743307     -26.160506     -43.557242   \n",
            "25%        -0.850134      -0.689830      -0.769031      -0.552509   \n",
            "50%        -0.022248      -0.053468      -0.275168       0.040859   \n",
            "75%         0.739647       0.612218       0.396792       0.570474   \n",
            "max        16.875344      34.801666      73.301626     120.589494   \n",
            "\n",
            "                  V8             V9  ...            V21            V22  \\\n",
            "count  283726.000000  283726.000000  ...  283726.000000  283726.000000   \n",
            "mean       -0.000854      -0.001596  ...      -0.000371      -0.000015   \n",
            "std         1.179054       1.095492  ...       0.723909       0.724550   \n",
            "min       -73.216718     -13.434066  ...     -34.830382     -10.933144   \n",
            "25%        -0.208828      -0.644221  ...      -0.228305      -0.542700   \n",
            "50%         0.021898      -0.052596  ...      -0.029441       0.006675   \n",
            "75%         0.325704       0.595977  ...       0.186194       0.528245   \n",
            "max        20.007208      15.594995  ...      27.202839      10.503090   \n",
            "\n",
            "                 V23            V24            V25            V26  \\\n",
            "count  283726.000000  283726.000000  283726.000000  283726.000000   \n",
            "mean        0.000198       0.000214      -0.000232       0.000149   \n",
            "std         0.623702       0.605627       0.521220       0.482053   \n",
            "min       -44.807735      -2.836627     -10.295397      -2.604551   \n",
            "25%        -0.161703      -0.354453      -0.317485      -0.326763   \n",
            "50%        -0.011159       0.041016       0.016278      -0.052172   \n",
            "75%         0.147748       0.439738       0.350667       0.240261   \n",
            "max        22.528412       4.584549       7.519589       3.517346   \n",
            "\n",
            "                 V27            V28         Amount          Class  \n",
            "count  283726.000000  283726.000000  283726.000000  283726.000000  \n",
            "mean        0.001763       0.000547      88.472687       0.001667  \n",
            "std         0.395744       0.328027     250.399437       0.040796  \n",
            "min       -22.565679     -15.430084       0.000000       0.000000  \n",
            "25%        -0.070641      -0.052818       5.600000       0.000000  \n",
            "50%         0.001479       0.011288      22.000000       0.000000  \n",
            "75%         0.091208       0.078276      77.510000       0.000000  \n",
            "max        31.612198      33.847808   25691.160000       1.000000  \n",
            "\n",
            "[8 rows x 31 columns]\n"
          ]
        }
      ],
      "source": [
        "print(cc_data.describe())"
      ]
    },
    {
      "cell_type": "code",
      "execution_count": null,
      "id": "561a5245-57c6-426f-9b1e-95853c544710",
      "metadata": {
        "colab": {
          "base_uri": "https://localhost:8080/",
          "height": 487
        },
        "id": "561a5245-57c6-426f-9b1e-95853c544710",
        "outputId": "a5f6c358-d55f-4d1b-8848-881847ed8e1e"
      },
      "outputs": [
        {
          "output_type": "display_data",
          "data": {
            "text/plain": [
              "<Figure size 800x500 with 1 Axes>"
            ],
            "image/png": "[encoded data removed]"
          },
          "metadata": {}
        }
      ],
      "source": [
        "# Histogram of transaction amounts\n",
        "plt.figure(figsize=(8,5))\n",
        "sns.histplot(cc_data['Amount'], bins=10)\n",
        "plt.title(\"Fraud/non Fraud Transactions Distribution\")\n",
        "plt.xlabel(\"Transaction\")\n",
        "plt.ylabel(\"Frequency\")\n",
        "plt.show()"
      ]
    },
    {
      "cell_type": "markdown",
      "id": "13f237ea-7d71-438b-bc05-6ddf5220e0c3",
      "metadata": {
        "id": "13f237ea-7d71-438b-bc05-6ddf5220e0c3"
      },
      "source": [
        "#### Handling the imbalanced dataset before building the model\n",
        "#### by oversampling the minority class"
      ]
    },
    {
      "cell_type": "code",
      "execution_count": null,
      "id": "81295362-845d-4443-8665-ed0f8dc37ed7",
      "metadata": {
        "id": "81295362-845d-4443-8665-ed0f8dc37ed7"
      },
      "outputs": [],
      "source": [
        "# from sklearn.utils import resample\n",
        "# fraud = resample(fraud,replace=True, n_samples=284315, random_state=RANDOM_SEED)\n",
        "\n",
        "# print(fraud.shape)\n",
        "# print(non_fraud.shape)"
      ]
    },
    {
      "cell_type": "code",
      "execution_count": null,
      "id": "96b345b1-2ac7-42db-971e-bef40d862aa5",
      "metadata": {
        "colab": {
          "base_uri": "https://localhost:8080/",
          "height": 663
        },
        "id": "96b345b1-2ac7-42db-971e-bef40d862aa5",
        "outputId": "317dc26a-e5dd-44a4-f0b4-0d424171b3b6"
      },
      "outputs": [
        {
          "output_type": "stream",
          "name": "stdout",
          "text": [
            "Shape before preprocess: (283726, 32)\n",
            "Duplicates: 0\n",
            "count    283726.000000\n",
            "mean         88.472687\n",
            "std         250.399437\n",
            "min           0.000000\n",
            "25%           5.600000\n",
            "50%          22.000000\n",
            "75%          77.510000\n",
            "max       25691.160000\n",
            "Name: Amount, dtype: float64\n"
          ]
        },
        {
          "output_type": "display_data",
          "data": {
            "text/plain": [
              "<Figure size 640x480 with 1 Axes>"
            ],
            "image/png": "[encoded data removed]"
          },
          "metadata": {}
        }
      ],
      "source": [
        "#State before pre-processing\n",
        "print(\"Shape before preprocess:\", cc_data.shape)\n",
        "print(\"Duplicates:\", cc_data.duplicated().sum())\n",
        "print(cc_data['Amount'].describe())\n",
        "sns.histplot(cc_data['Amount'], bins=30, kde=True)\n",
        "plt.title(\"Raw Amount Distribution\")\n",
        "plt.show()"
      ]
    },
    {
      "cell_type": "markdown",
      "id": "5edd08b7-2c88-4008-bd36-bc7ab536593d",
      "metadata": {
        "id": "5edd08b7-2c88-4008-bd36-bc7ab536593d"
      },
      "source": [
        "Pre-process data. The importance of\n",
        "\n",
        "dropping duplicates: Prevents models from seeing the same example multiple times, ensuring a each row is unique and maintaining representation of transaction diversity\n",
        "\n",
        "log-transform Amount: Log transform to Amount pulls it in the right tail of large transactions, allowing for more symmetric distribution and easier to models to learn\n",
        "\n",
        "robust scale Amount: Ensures outliers don't dominate feature space"
      ]
    },
    {
      "cell_type": "code",
      "execution_count": null,
      "id": "46f0ac0d-5571-4d8b-be90-d5d82fabd3bb",
      "metadata": {
        "id": "46f0ac0d-5571-4d8b-be90-d5d82fabd3bb"
      },
      "outputs": [],
      "source": [
        "# Pre-processing: drop duplicates, log‐transform & robust‐scale Amount\n",
        "cc_data['Amount_log'] = np.log1p(cc_data['Amount'])\n",
        "rs = RobustScaler()\n",
        "cc_data['Amount_scaled'] = rs.fit_transform(cc_data[['Amount_log']])"
      ]
    },
    {
      "cell_type": "code",
      "execution_count": null,
      "id": "bad28f2d",
      "metadata": {
        "id": "bad28f2d"
      },
      "outputs": [],
      "source": [
        "\n",
        "# Step 4: Feature Engineering on Time column\n",
        "# Extract hour of the day\n",
        "cc_data['Hour'] = (cc_data['Time'] // 3600) % 24\n",
        "\n",
        "# Compute time since previous transaction (sorted by Time)\n",
        "cc_data = cc_data.sort_values(by='Time')\n",
        "cc_data['Time_diff'] = cc_data['Time'].diff().fillna(0)\n",
        "\n",
        "# Encode hour cyclically\n",
        "cc_data['Hour_sin'] = np.sin(2 * np.pi * cc_data['Hour'] / 24)\n",
        "cc_data['Hour_cos'] = np.cos(2 * np.pi * cc_data['Hour'] / 24)\n",
        "\n",
        "# Drop original 'Time' and 'Hour' as they are now encoded\n",
        "cc_data = cc_data.drop(columns=['Time', 'Hour'])\n"
      ]
    },
    {
      "cell_type": "code",
      "execution_count": null,
      "id": "1faaf31a-5398-4e44-9ac7-f8c18dfa28a4",
      "metadata": {
        "colab": {
          "base_uri": "https://localhost:8080/",
          "height": 737
        },
        "id": "1faaf31a-5398-4e44-9ac7-f8c18dfa28a4",
        "outputId": "795c73bb-e58a-4ea3-ee0b-4e56218a9c3d"
      },
      "outputs": [
        {
          "output_type": "stream",
          "name": "stdout",
          "text": [
            "Shape after preprocess: (283726, 35)\n",
            "count    283726.000000\n",
            "mean          3.153760\n",
            "std           1.657080\n",
            "min           0.000000\n",
            "25%           1.887070\n",
            "50%           3.135494\n",
            "75%           4.363226\n",
            "max          10.153941\n",
            "Name: Amount_log, dtype: float64\n",
            "count    283726.000000\n",
            "mean          0.007377\n",
            "std           0.669215\n",
            "min          -1.266275\n",
            "25%          -0.504178\n",
            "50%           0.000000\n",
            "75%           0.495822\n",
            "max           2.834412\n",
            "Name: Amount_scaled, dtype: float64\n"
          ]
        },
        {
          "output_type": "display_data",
          "data": {
            "text/plain": [
              "<Figure size 1200x400 with 2 Axes>"
            ],
            "image/png": "[encoded data removed]"
          },
          "metadata": {}
        }
      ],
      "source": [
        "#State after pre-processing\n",
        "print(\"Shape after preprocess:\", cc_data.shape)\n",
        "print(cc_data['Amount_log'].describe())\n",
        "print(cc_data['Amount_scaled'].describe())\n",
        "fig, axes = plt.subplots(1,2,figsize=(12,4))\n",
        "sns.histplot(cc_data['Amount_log'],    bins=30, ax=axes[0]).set(title=\"Amount_log\")\n",
        "sns.histplot(cc_data['Amount_scaled'], bins=30, ax=axes[1]).set(title=\"Amount_scaled\")\n",
        "plt.tight_layout()\n",
        "plt.show()"
      ]
    },
    {
      "cell_type": "code",
      "source": [
        "X = cc_data.drop(columns='Class')\n",
        "y = cc_data['Class']"
      ],
      "metadata": {
        "id": "M6oCwrbclCuz"
      },
      "id": "M6oCwrbclCuz",
      "execution_count": null,
      "outputs": []
    },
    {
      "cell_type": "code",
      "source": [
        "X_train, X_test, y_train, y_test = train_test_split(\n",
        "    X, y, test_size=0.2, stratify=y, random_state=RANDOM_SEED\n",
        ")\n",
        "\n",
        "print(f\"Training set shape: {X_train.shape}, Test set shape: {X_test.shape}\")\n",
        "print(f\"Training fraud ratio: {y_train.mean():.4f}, Test fraud ratio: {y_test.mean():.4f}\")"
      ],
      "metadata": {
        "colab": {
          "base_uri": "https://localhost:8080/"
        },
        "id": "-oiEtPfqlFaS",
        "outputId": "4f0f91f4-70dd-440e-8ae7-d102af35f9af"
      },
      "id": "-oiEtPfqlFaS",
      "execution_count": null,
      "outputs": [
        {
          "output_type": "stream",
          "name": "stdout",
          "text": [
            "Training set shape: (226980, 34), Test set shape: (56746, 34)\n",
            "Training fraud ratio: 0.0017, Test fraud ratio: 0.0017\n"
          ]
        }
      ]
    },
    {
      "cell_type": "code",
      "source": [
        "numeric_features = ['V1', 'V2', 'V3', 'V4', 'V5', 'V6', 'V7', 'V8', 'V9', 'V10',\n",
        "                    'V11', 'V12', 'V13', 'V14', 'V15', 'V16', 'V17', 'V18', 'V19', 'V20',\n",
        "                    'V21', 'V22', 'V23', 'V24', 'V25', 'V26', 'V27', 'V28',\n",
        "                    'Amount_log', 'Time_diff', 'Hour_sin', 'Hour_cos']"
      ],
      "metadata": {
        "id": "ep31alBblnLi"
      },
      "id": "ep31alBblnLi",
      "execution_count": null,
      "outputs": []
    },
    {
      "cell_type": "code",
      "source": [
        "preprocessor_lr = ColumnTransformer(\n",
        "    [('num', StandardScaler(), numeric_features)],\n",
        "    remainder='passthrough'\n",
        ")\n",
        "\n",
        "preprocessor_tree = ColumnTransformer(\n",
        "    [],  # No transformations needed for tree models\n",
        "    remainder='passthrough'\n",
        ")"
      ],
      "metadata": {
        "id": "uO1CwxRGlp_0"
      },
      "id": "uO1CwxRGlp_0",
      "execution_count": null,
      "outputs": []
    },
    {
      "cell_type": "code",
      "source": [
        "pipeline_lr = ImbPipeline([\n",
        "    ('preprocess', preprocessor_lr),\n",
        "    ('smote', SMOTE(random_state=RANDOM_SEED)),\n",
        "    ('classifier', LogisticRegression(max_iter=1000, class_weight='balanced'))\n",
        "])\n",
        "\n",
        "pipeline_dt = ImbPipeline([\n",
        "    ('preprocess', preprocessor_tree),\n",
        "    ('smote', SMOTE(random_state=RANDOM_SEED)),\n",
        "    ('classifier', DecisionTreeClassifier(random_state=RANDOM_SEED))\n",
        "])\n",
        "\n",
        "pipeline_rf = ImbPipeline([\n",
        "    ('preprocess', preprocessor_tree),\n",
        "    ('smote', SMOTE(random_state=RANDOM_SEED)),\n",
        "    ('classifier', RandomForestClassifier(n_estimators=100, random_state=RANDOM_SEED))\n",
        "])"
      ],
      "metadata": {
        "id": "lB4jEY4ylvjX"
      },
      "id": "lB4jEY4ylvjX",
      "execution_count": null,
      "outputs": []
    },
    {
      "cell_type": "code",
      "source": [
        "print(\"Training Logistic Regression...\")\n",
        "pipeline_lr.fit(X_train, y_train)\n",
        "\n",
        "print(\"Training Decision Tree...\")\n",
        "pipeline_dt.fit(X_train, y_train)\n",
        "\n",
        "print(\"Training Random Forest...\")\n",
        "pipeline_rf.fit(X_train, y_train)"
      ],
      "metadata": {
        "colab": {
          "base_uri": "https://localhost:8080/",
          "height": 358
        },
        "id": "FASZaD8Tl07-",
        "outputId": "0a42f167-3348-45c6-c83f-948ecc1615dc"
      },
      "id": "FASZaD8Tl07-",
      "execution_count": null,
      "outputs": [
        {
          "output_type": "stream",
          "name": "stdout",
          "text": [
            "Training Logistic Regression...\n",
            "Training Decision Tree...\n",
            "Training Random Forest...\n"
          ]
        },
        {
          "output_type": "execute_result",
          "data": {
            "text/plain": [
              "Pipeline(steps=[('preprocess',\n",
              "                 ColumnTransformer(remainder='passthrough', transformers=[])),\n",
              "                ('smote', SMOTE(random_state=42)),\n",
              "                ('classifier', RandomForestClassifier(random_state=42))])"
            ],
            "text/html": [
              "<style>#sk-container-id-1 {\n",
              "  /* Definition of color scheme common for light and dark mode */\n",
              "  --sklearn-color-text: #000;\n",
              "  --sklearn-color-text-muted: #666;\n",
              "  --sklearn-color-line: gray;\n",
              "  /* Definition of color scheme for unfitted estimators */\n",
              "  --sklearn-color-unfitted-level-0: #fff5e6;\n",
              "  --sklearn-color-unfitted-level-1: #f6e4d2;\n",
              "  --sklearn-color-unfitted-level-2: #ffe0b3;\n",
              "  --sklearn-color-unfitted-level-3: chocolate;\n",
              "  /* Definition of color scheme for fitted estimators */\n",
              "  --sklearn-color-fitted-level-0: #f0f8ff;\n",
              "  --sklearn-color-fitted-level-1: #d4ebff;\n",
              "  --sklearn-color-fitted-level-2: #b3dbfd;\n",
              "  --sklearn-color-fitted-level-3: cornflowerblue;\n",
              "\n",
              "  /* Specific color for light theme */\n",
              "  --sklearn-color-text-on-default-background: var(--sg-text-color, var(--theme-code-foreground, var(--jp-content-font-color1, black)));\n",
              "  --sklearn-color-background: var(--sg-background-color, var(--theme-background, var(--jp-layout-color0, white)));\n",
              "  --sklearn-color-border-box: var(--sg-text-color, var(--theme-code-foreground, var(--jp-content-font-color1, black)));\n",
              "  --sklearn-color-icon: #696969;\n",
              "\n",
              "  @media (prefers-color-scheme: dark) {\n",
              "    /* Redefinition of color scheme for dark theme */\n",
              "    --sklearn-color-text-on-default-background: var(--sg-text-color, var(--theme-code-foreground, var(--jp-content-font-color1, white)));\n",
              "    --sklearn-color-background: var(--sg-background-color, var(--theme-background, var(--jp-layout-color0, #111)));\n",
              "    --sklearn-color-border-box: var(--sg-text-color, var(--theme-code-foreground, var(--jp-content-font-color1, white)));\n",
              "    --sklearn-color-icon: #878787;\n",
              "  }\n",
              "}\n",
              "\n",
              "#sk-container-id-1 {\n",
              "  color: var(--sklearn-color-text);\n",
              "}\n",
              "\n",
              "#sk-container-id-1 pre {\n",
              "  padding: 0;\n",
              "}\n",
              "\n",
              "#sk-container-id-1 input.sk-hidden--visually {\n",
              "  border: 0;\n",
              "  clip: rect(1px 1px 1px 1px);\n",
              "  clip: rect(1px, 1px, 1px, 1px);\n",
              "  height: 1px;\n",
              "  margin: -1px;\n",
              "  overflow: hidden;\n",
              "  padding: 0;\n",
              "  position: absolute;\n",
              "  width: 1px;\n",
              "}\n",
              "\n",
              "#sk-container-id-1 div.sk-dashed-wrapped {\n",
              "  border: 1px dashed var(--sklearn-color-line);\n",
              "  margin: 0 0.4em 0.5em 0.4em;\n",
              "  box-sizing: border-box;\n",
              "  padding-bottom: 0.4em;\n",
              "  background-color: var(--sklearn-color-background);\n",
              "}\n",
              "\n",
              "#sk-container-id-1 div.sk-container {\n",
              "  /* jupyter's `normalize.less` sets `[hidden] { display: none; }`\n",
              "     but bootstrap.min.css set `[hidden] { display: none !important; }`\n",
              "     so we also need the `!important` here to be able to override the\n",
              "     default hidden behavior on the sphinx rendered scikit-learn.org.\n",
              "     See: https://github.com/scikit-learn/scikit-learn/issues/21755 */\n",
              "  display: inline-block !important;\n",
              "  position: relative;\n",
              "}\n",
              "\n",
              "#sk-container-id-1 div.sk-text-repr-fallback {\n",
              "  display: none;\n",
              "}\n",
              "\n",
              "div.sk-parallel-item,\n",
              "div.sk-serial,\n",
              "div.sk-item {\n",
              "  /* draw centered vertical line to link estimators */\n",
              "  background-image: linear-gradient(var(--sklearn-color-text-on-default-background), var(--sklearn-color-text-on-default-background));\n",
              "  background-size: 2px 100%;\n",
              "  background-repeat: no-repeat;\n",
              "  background-position: center center;\n",
              "}\n",
              "\n",
              "/* Parallel-specific style estimator block */\n",
              "\n",
              "#sk-container-id-1 div.sk-parallel-item::after {\n",
              "  content: \"\";\n",
              "  width: 100%;\n",
              "  border-bottom: 2px solid var(--sklearn-color-text-on-default-background);\n",
              "  flex-grow: 1;\n",
              "}\n",
              "\n",
              "#sk-container-id-1 div.sk-parallel {\n",
              "  display: flex;\n",
              "  align-items: stretch;\n",
              "  justify-content: center;\n",
              "  background-color: var(--sklearn-color-background);\n",
              "  position: relative;\n",
              "}\n",
              "\n",
              "#sk-container-id-1 div.sk-parallel-item {\n",
              "  display: flex;\n",
              "  flex-direction: column;\n",
              "}\n",
              "\n",
              "#sk-container-id-1 div.sk-parallel-item:first-child::after {\n",
              "  align-self: flex-end;\n",
              "  width: 50%;\n",
              "}\n",
              "\n",
              "#sk-container-id-1 div.sk-parallel-item:last-child::after {\n",
              "  align-self: flex-start;\n",
              "  width: 50%;\n",
              "}\n",
              "\n",
              "#sk-container-id-1 div.sk-parallel-item:only-child::after {\n",
              "  width: 0;\n",
              "}\n",
              "\n",
              "/* Serial-specific style estimator block */\n",
              "\n",
              "#sk-container-id-1 div.sk-serial {\n",
              "  display: flex;\n",
              "  flex-direction: column;\n",
              "  align-items: center;\n",
              "  background-color: var(--sklearn-color-background);\n",
              "  padding-right: 1em;\n",
              "  padding-left: 1em;\n",
              "}\n",
              "\n",
              "\n",
              "/* Toggleable style: style used for estimator/Pipeline/ColumnTransformer box that is\n",
              "clickable and can be expanded/collapsed.\n",
              "- Pipeline and ColumnTransformer use this feature and define the default style\n",
              "- Estimators will overwrite some part of the style using the `sk-estimator` class\n",
              "*/\n",
              "\n",
              "/* Pipeline and ColumnTransformer style (default) */\n",
              "\n",
              "#sk-container-id-1 div.sk-toggleable {\n",
              "  /* Default theme specific background. It is overwritten whether we have a\n",
              "  specific estimator or a Pipeline/ColumnTransformer */\n",
              "  background-color: var(--sklearn-color-background);\n",
              "}\n",
              "\n",
              "/* Toggleable label */\n",
              "#sk-container-id-1 label.sk-toggleable__label {\n",
              "  cursor: pointer;\n",
              "  display: flex;\n",
              "  width: 100%;\n",
              "  margin-bottom: 0;\n",
              "  padding: 0.5em;\n",
              "  box-sizing: border-box;\n",
              "  text-align: center;\n",
              "  align-items: start;\n",
              "  justify-content: space-between;\n",
              "  gap: 0.5em;\n",
              "}\n",
              "\n",
              "#sk-container-id-1 label.sk-toggleable__label .caption {\n",
              "  font-size: 0.6rem;\n",
              "  font-weight: lighter;\n",
              "  color: var(--sklearn-color-text-muted);\n",
              "}\n",
              "\n",
              "#sk-container-id-1 label.sk-toggleable__label-arrow:before {\n",
              "  /* Arrow on the left of the label */\n",
              "  content: \"▸\";\n",
              "  float: left;\n",
              "  margin-right: 0.25em;\n",
              "  color: var(--sklearn-color-icon);\n",
              "}\n",
              "\n",
              "#sk-container-id-1 label.sk-toggleable__label-arrow:hover:before {\n",
              "  color: var(--sklearn-color-text);\n",
              "}\n",
              "\n",
              "/* Toggleable content - dropdown */\n",
              "\n",
              "#sk-container-id-1 div.sk-toggleable__content {\n",
              "  max-height: 0;\n",
              "  max-width: 0;\n",
              "  overflow: hidden;\n",
              "  text-align: left;\n",
              "  /* unfitted */\n",
              "  background-color: var(--sklearn-color-unfitted-level-0);\n",
              "}\n",
              "\n",
              "#sk-container-id-1 div.sk-toggleable__content.fitted {\n",
              "  /* fitted */\n",
              "  background-color: var(--sklearn-color-fitted-level-0);\n",
              "}\n",
              "\n",
              "#sk-container-id-1 div.sk-toggleable__content pre {\n",
              "  margin: 0.2em;\n",
              "  border-radius: 0.25em;\n",
              "  color: var(--sklearn-color-text);\n",
              "  /* unfitted */\n",
              "  background-color: var(--sklearn-color-unfitted-level-0);\n",
              "}\n",
              "\n",
              "#sk-container-id-1 div.sk-toggleable__content.fitted pre {\n",
              "  /* unfitted */\n",
              "  background-color: var(--sklearn-color-fitted-level-0);\n",
              "}\n",
              "\n",
              "#sk-container-id-1 input.sk-toggleable__control:checked~div.sk-toggleable__content {\n",
              "  /* Expand drop-down */\n",
              "  max-height: 200px;\n",
              "  max-width: 100%;\n",
              "  overflow: auto;\n",
              "}\n",
              "\n",
              "#sk-container-id-1 input.sk-toggleable__control:checked~label.sk-toggleable__label-arrow:before {\n",
              "  content: \"▾\";\n",
              "}\n",
              "\n",
              "/* Pipeline/ColumnTransformer-specific style */\n",
              "\n",
              "#sk-container-id-1 div.sk-label input.sk-toggleable__control:checked~label.sk-toggleable__label {\n",
              "  color: var(--sklearn-color-text);\n",
              "  background-color: var(--sklearn-color-unfitted-level-2);\n",
              "}\n",
              "\n",
              "#sk-container-id-1 div.sk-label.fitted input.sk-toggleable__control:checked~label.sk-toggleable__label {\n",
              "  background-color: var(--sklearn-color-fitted-level-2);\n",
              "}\n",
              "\n",
              "/* Estimator-specific style */\n",
              "\n",
              "/* Colorize estimator box */\n",
              "#sk-container-id-1 div.sk-estimator input.sk-toggleable__control:checked~label.sk-toggleable__label {\n",
              "  /* unfitted */\n",
              "  background-color: var(--sklearn-color-unfitted-level-2);\n",
              "}\n",
              "\n",
              "#sk-container-id-1 div.sk-estimator.fitted input.sk-toggleable__control:checked~label.sk-toggleable__label {\n",
              "  /* fitted */\n",
              "  background-color: var(--sklearn-color-fitted-level-2);\n",
              "}\n",
              "\n",
              "#sk-container-id-1 div.sk-label label.sk-toggleable__label,\n",
              "#sk-container-id-1 div.sk-label label {\n",
              "  /* The background is the default theme color */\n",
              "  color: var(--sklearn-color-text-on-default-background);\n",
              "}\n",
              "\n",
              "/* On hover, darken the color of the background */\n",
              "#sk-container-id-1 div.sk-label:hover label.sk-toggleable__label {\n",
              "  color: var(--sklearn-color-text);\n",
              "  background-color: var(--sklearn-color-unfitted-level-2);\n",
              "}\n",
              "\n",
              "/* Label box, darken color on hover, fitted */\n",
              "#sk-container-id-1 div.sk-label.fitted:hover label.sk-toggleable__label.fitted {\n",
              "  color: var(--sklearn-color-text);\n",
              "  background-color: var(--sklearn-color-fitted-level-2);\n",
              "}\n",
              "\n",
              "/* Estimator label */\n",
              "\n",
              "#sk-container-id-1 div.sk-label label {\n",
              "  font-family: monospace;\n",
              "  font-weight: bold;\n",
              "  display: inline-block;\n",
              "  line-height: 1.2em;\n",
              "}\n",
              "\n",
              "#sk-container-id-1 div.sk-label-container {\n",
              "  text-align: center;\n",
              "}\n",
              "\n",
              "/* Estimator-specific */\n",
              "#sk-container-id-1 div.sk-estimator {\n",
              "  font-family: monospace;\n",
              "  border: 1px dotted var(--sklearn-color-border-box);\n",
              "  border-radius: 0.25em;\n",
              "  box-sizing: border-box;\n",
              "  margin-bottom: 0.5em;\n",
              "  /* unfitted */\n",
              "  background-color: var(--sklearn-color-unfitted-level-0);\n",
              "}\n",
              "\n",
              "#sk-container-id-1 div.sk-estimator.fitted {\n",
              "  /* fitted */\n",
              "  background-color: var(--sklearn-color-fitted-level-0);\n",
              "}\n",
              "\n",
              "/* on hover */\n",
              "#sk-container-id-1 div.sk-estimator:hover {\n",
              "  /* unfitted */\n",
              "  background-color: var(--sklearn-color-unfitted-level-2);\n",
              "}\n",
              "\n",
              "#sk-container-id-1 div.sk-estimator.fitted:hover {\n",
              "  /* fitted */\n",
              "  background-color: var(--sklearn-color-fitted-level-2);\n",
              "}\n",
              "\n",
              "/* Specification for estimator info (e.g. \"i\" and \"?\") */\n",
              "\n",
              "/* Common style for \"i\" and \"?\" */\n",
              "\n",
              ".sk-estimator-doc-link,\n",
              "a:link.sk-estimator-doc-link,\n",
              "a:visited.sk-estimator-doc-link {\n",
              "  float: right;\n",
              "  font-size: smaller;\n",
              "  line-height: 1em;\n",
              "  font-family: monospace;\n",
              "  background-color: var(--sklearn-color-background);\n",
              "  border-radius: 1em;\n",
              "  height: 1em;\n",
              "  width: 1em;\n",
              "  text-decoration: none !important;\n",
              "  margin-left: 0.5em;\n",
              "  text-align: center;\n",
              "  /* unfitted */\n",
              "  border: var(--sklearn-color-unfitted-level-1) 1pt solid;\n",
              "  color: var(--sklearn-color-unfitted-level-1);\n",
              "}\n",
              "\n",
              ".sk-estimator-doc-link.fitted,\n",
              "a:link.sk-estimator-doc-link.fitted,\n",
              "a:visited.sk-estimator-doc-link.fitted {\n",
              "  /* fitted */\n",
              "  border: var(--sklearn-color-fitted-level-1) 1pt solid;\n",
              "  color: var(--sklearn-color-fitted-level-1);\n",
              "}\n",
              "\n",
              "/* On hover */\n",
              "div.sk-estimator:hover .sk-estimator-doc-link:hover,\n",
              ".sk-estimator-doc-link:hover,\n",
              "div.sk-label-container:hover .sk-estimator-doc-link:hover,\n",
              ".sk-estimator-doc-link:hover {\n",
              "  /* unfitted */\n",
              "  background-color: var(--sklearn-color-unfitted-level-3);\n",
              "  color: var(--sklearn-color-background);\n",
              "  text-decoration: none;\n",
              "}\n",
              "\n",
              "div.sk-estimator.fitted:hover .sk-estimator-doc-link.fitted:hover,\n",
              ".sk-estimator-doc-link.fitted:hover,\n",
              "div.sk-label-container:hover .sk-estimator-doc-link.fitted:hover,\n",
              ".sk-estimator-doc-link.fitted:hover {\n",
              "  /* fitted */\n",
              "  background-color: var(--sklearn-color-fitted-level-3);\n",
              "  color: var(--sklearn-color-background);\n",
              "  text-decoration: none;\n",
              "}\n",
              "\n",
              "/* Span, style for the box shown on hovering the info icon */\n",
              ".sk-estimator-doc-link span {\n",
              "  display: none;\n",
              "  z-index: 9999;\n",
              "  position: relative;\n",
              "  font-weight: normal;\n",
              "  right: .2ex;\n",
              "  padding: .5ex;\n",
              "  margin: .5ex;\n",
              "  width: min-content;\n",
              "  min-width: 20ex;\n",
              "  max-width: 50ex;\n",
              "  color: var(--sklearn-color-text);\n",
              "  box-shadow: 2pt 2pt 4pt #999;\n",
              "  /* unfitted */\n",
              "  background: var(--sklearn-color-unfitted-level-0);\n",
              "  border: .5pt solid var(--sklearn-color-unfitted-level-3);\n",
              "}\n",
              "\n",
              ".sk-estimator-doc-link.fitted span {\n",
              "  /* fitted */\n",
              "  background: var(--sklearn-color-fitted-level-0);\n",
              "  border: var(--sklearn-color-fitted-level-3);\n",
              "}\n",
              "\n",
              ".sk-estimator-doc-link:hover span {\n",
              "  display: block;\n",
              "}\n",
              "\n",
              "/* \"?\"-specific style due to the `<a>` HTML tag */\n",
              "\n",
              "#sk-container-id-1 a.estimator_doc_link {\n",
              "  float: right;\n",
              "  font-size: 1rem;\n",
              "  line-height: 1em;\n",
              "  font-family: monospace;\n",
              "  background-color: var(--sklearn-color-background);\n",
              "  border-radius: 1rem;\n",
              "  height: 1rem;\n",
              "  width: 1rem;\n",
              "  text-decoration: none;\n",
              "  /* unfitted */\n",
              "  color: var(--sklearn-color-unfitted-level-1);\n",
              "  border: var(--sklearn-color-unfitted-level-1) 1pt solid;\n",
              "}\n",
              "\n",
              "#sk-container-id-1 a.estimator_doc_link.fitted {\n",
              "  /* fitted */\n",
              "  border: var(--sklearn-color-fitted-level-1) 1pt solid;\n",
              "  color: var(--sklearn-color-fitted-level-1);\n",
              "}\n",
              "\n",
              "/* On hover */\n",
              "#sk-container-id-1 a.estimator_doc_link:hover {\n",
              "  /* unfitted */\n",
              "  background-color: var(--sklearn-color-unfitted-level-3);\n",
              "  color: var(--sklearn-color-background);\n",
              "  text-decoration: none;\n",
              "}\n",
              "\n",
              "#sk-container-id-1 a.estimator_doc_link.fitted:hover {\n",
              "  /* fitted */\n",
              "  background-color: var(--sklearn-color-fitted-level-3);\n",
              "}\n",
              "</style><div id=\"sk-container-id-1\" class=\"sk-top-container\"><div class=\"sk-text-repr-fallback\"><pre>Pipeline(steps=[(&#x27;preprocess&#x27;,\n",
              "                 ColumnTransformer(remainder=&#x27;passthrough&#x27;, transformers=[])),\n",
              "                (&#x27;smote&#x27;, SMOTE(random_state=42)),\n",
              "                (&#x27;classifier&#x27;, RandomForestClassifier(random_state=42))])</pre><b>In a Jupyter environment, please rerun this cell to show the HTML representation or trust the notebook. <br />On GitHub, the HTML representation is unable to render, please try loading this page with nbviewer.org.</b></div><div class=\"sk-container\" hidden><div class=\"sk-item sk-dashed-wrapped\"><div class=\"sk-label-container\"><div class=\"sk-label fitted sk-toggleable\"><input class=\"sk-toggleable__control sk-hidden--visually\" id=\"sk-estimator-id-1\" type=\"checkbox\" ><label for=\"sk-estimator-id-1\" class=\"sk-toggleable__label fitted sk-toggleable__label-arrow\"><div><div>Pipeline</div></div><div><span class=\"sk-estimator-doc-link fitted\">i<span>Fitted</span></span></div></label><div class=\"sk-toggleable__content fitted\"><pre>Pipeline(steps=[(&#x27;preprocess&#x27;,\n",
              "                 ColumnTransformer(remainder=&#x27;passthrough&#x27;, transformers=[])),\n",
              "                (&#x27;smote&#x27;, SMOTE(random_state=42)),\n",
              "                (&#x27;classifier&#x27;, RandomForestClassifier(random_state=42))])</pre></div> </div></div><div class=\"sk-serial\"><div class=\"sk-item sk-dashed-wrapped\"><div class=\"sk-label-container\"><div class=\"sk-label fitted sk-toggleable\"><input class=\"sk-toggleable__control sk-hidden--visually\" id=\"sk-estimator-id-2\" type=\"checkbox\" ><label for=\"sk-estimator-id-2\" class=\"sk-toggleable__label fitted sk-toggleable__label-arrow\"><div><div>preprocess: ColumnTransformer</div></div><div><a class=\"sk-estimator-doc-link fitted\" rel=\"noreferrer\" target=\"_blank\" href=\"https://scikit-learn.org/1.6/modules/generated/sklearn.compose.ColumnTransformer.html\">?<span>Documentation for preprocess: ColumnTransformer</span></a></div></label><div class=\"sk-toggleable__content fitted\"><pre>ColumnTransformer(remainder=&#x27;passthrough&#x27;, transformers=[])</pre></div> </div></div><div class=\"sk-parallel\"><div class=\"sk-parallel-item\"><div class=\"sk-item\"><div class=\"sk-label-container\"><div class=\"sk-label fitted sk-toggleable\"><input class=\"sk-toggleable__control sk-hidden--visually\" id=\"sk-estimator-id-3\" type=\"checkbox\" ><label for=\"sk-estimator-id-3\" class=\"sk-toggleable__label fitted sk-toggleable__label-arrow\"><div><div>remainder</div></div></label><div class=\"sk-toggleable__content fitted\"><pre>[&#x27;V1&#x27;, &#x27;V2&#x27;, &#x27;V3&#x27;, &#x27;V4&#x27;, &#x27;V5&#x27;, &#x27;V6&#x27;, &#x27;V7&#x27;, &#x27;V8&#x27;, &#x27;V9&#x27;, &#x27;V10&#x27;, &#x27;V11&#x27;, &#x27;V12&#x27;, &#x27;V13&#x27;, &#x27;V14&#x27;, &#x27;V15&#x27;, &#x27;V16&#x27;, &#x27;V17&#x27;, &#x27;V18&#x27;, &#x27;V19&#x27;, &#x27;V20&#x27;, &#x27;V21&#x27;, &#x27;V22&#x27;, &#x27;V23&#x27;, &#x27;V24&#x27;, &#x27;V25&#x27;, &#x27;V26&#x27;, &#x27;V27&#x27;, &#x27;V28&#x27;, &#x27;Amount&#x27;, &#x27;Amount_log&#x27;, &#x27;Amount_scaled&#x27;, &#x27;Time_diff&#x27;, &#x27;Hour_sin&#x27;, &#x27;Hour_cos&#x27;]</pre></div> </div></div><div class=\"sk-serial\"><div class=\"sk-item\"><div class=\"sk-estimator fitted sk-toggleable\"><input class=\"sk-toggleable__control sk-hidden--visually\" id=\"sk-estimator-id-4\" type=\"checkbox\" ><label for=\"sk-estimator-id-4\" class=\"sk-toggleable__label fitted sk-toggleable__label-arrow\"><div><div>passthrough</div></div></label><div class=\"sk-toggleable__content fitted\"><pre>passthrough</pre></div> </div></div></div></div></div></div></div><div class=\"sk-item\"><div class=\"sk-estimator fitted sk-toggleable\"><input class=\"sk-toggleable__control sk-hidden--visually\" id=\"sk-estimator-id-5\" type=\"checkbox\" ><label for=\"sk-estimator-id-5\" class=\"sk-toggleable__label fitted sk-toggleable__label-arrow\"><div><div>SMOTE</div></div></label><div class=\"sk-toggleable__content fitted\"><pre>SMOTE(random_state=42)</pre></div> </div></div><div class=\"sk-item\"><div class=\"sk-estimator fitted sk-toggleable\"><input class=\"sk-toggleable__control sk-hidden--visually\" id=\"sk-estimator-id-6\" type=\"checkbox\" ><label for=\"sk-estimator-id-6\" class=\"sk-toggleable__label fitted sk-toggleable__label-arrow\"><div><div>RandomForestClassifier</div></div><div><a class=\"sk-estimator-doc-link fitted\" rel=\"noreferrer\" target=\"_blank\" href=\"https://scikit-learn.org/1.6/modules/generated/sklearn.ensemble.RandomForestClassifier.html\">?<span>Documentation for RandomForestClassifier</span></a></div></label><div class=\"sk-toggleable__content fitted\"><pre>RandomForestClassifier(random_state=42)</pre></div> </div></div></div></div></div></div>"
            ]
          },
          "metadata": {},
          "execution_count": 24
        }
      ]
    },
    {
      "cell_type": "code",
      "source": [
        "y_pred_lr = pipeline_lr.predict(X_test)\n",
        "y_pred_dt = pipeline_dt.predict(X_test)\n",
        "y_pred_rf = pipeline_rf.predict(X_test)"
      ],
      "metadata": {
        "id": "k26VAFNoo9hy"
      },
      "id": "k26VAFNoo9hy",
      "execution_count": null,
      "outputs": []
    },
    {
      "cell_type": "code",
      "source": [
        "y_scores_lr = pipeline_lr.predict_proba(X_test)[:, 1]\n",
        "y_scores_dt = pipeline_dt.predict_proba(X_test)[:, 1]\n",
        "y_scores_rf = pipeline_rf.predict_proba(X_test)[:, 1]"
      ],
      "metadata": {
        "id": "cZfaeTP_pAdp"
      },
      "id": "cZfaeTP_pAdp",
      "execution_count": null,
      "outputs": []
    },
    {
      "cell_type": "code",
      "source": [
        "print(\"\\nLogistic Regression Results:\")\n",
        "print(classification_report(y_test, y_pred_lr, digits=4))\n",
        "print(f\"AUPRC: {average_precision_score(y_test, y_scores_lr):.4f}\")"
      ],
      "metadata": {
        "colab": {
          "base_uri": "https://localhost:8080/"
        },
        "id": "o6x-2yhvpCzn",
        "outputId": "e7945d66-b663-486c-803c-1f7c6e2a51fc"
      },
      "id": "o6x-2yhvpCzn",
      "execution_count": null,
      "outputs": [
        {
          "output_type": "stream",
          "name": "stdout",
          "text": [
            "\n",
            "Logistic Regression Results:\n",
            "              precision    recall  f1-score   support\n",
            "\n",
            "           0     0.9998    0.9817    0.9907     56651\n",
            "           1     0.0741    0.8737    0.1366        95\n",
            "\n",
            "    accuracy                         0.9815     56746\n",
            "   macro avg     0.5369    0.9277    0.5636     56746\n",
            "weighted avg     0.9982    0.9815    0.9892     56746\n",
            "\n",
            "AUPRC: 0.6812\n"
          ]
        }
      ]
    },
    {
      "cell_type": "code",
      "source": [
        "print(\"\\nDecision Tree Results:\")\n",
        "print(classification_report(y_test, y_pred_dt, digits=4))\n",
        "print(f\"AUPRC: {average_precision_score(y_test, y_scores_dt):.4f}\")"
      ],
      "metadata": {
        "colab": {
          "base_uri": "https://localhost:8080/"
        },
        "id": "tMqJKiWgpGOX",
        "outputId": "ad0c93ab-337d-495c-cc05-bd6cd485f0c8"
      },
      "id": "tMqJKiWgpGOX",
      "execution_count": null,
      "outputs": [
        {
          "output_type": "stream",
          "name": "stdout",
          "text": [
            "\n",
            "Decision Tree Results:\n",
            "              precision    recall  f1-score   support\n",
            "\n",
            "           0     0.9995    0.9979    0.9987     56651\n",
            "           1     0.3497    0.6737    0.4604        95\n",
            "\n",
            "    accuracy                         0.9974     56746\n",
            "   macro avg     0.6746    0.8358    0.7296     56746\n",
            "weighted avg     0.9984    0.9974    0.9978     56746\n",
            "\n",
            "AUPRC: 0.2362\n"
          ]
        }
      ]
    },
    {
      "cell_type": "code",
      "source": [
        "print(\"\\nRandom Forest Results:\")\n",
        "print(classification_report(y_test, y_pred_rf, digits=4))\n",
        "print(f\"AUPRC: {average_precision_score(y_test, y_scores_rf):.4f}\")"
      ],
      "metadata": {
        "colab": {
          "base_uri": "https://localhost:8080/"
        },
        "id": "c_zlhlZzpIoG",
        "outputId": "cc37da2d-e9b2-405a-93b8-271c22c89a09"
      },
      "id": "c_zlhlZzpIoG",
      "execution_count": null,
      "outputs": [
        {
          "output_type": "stream",
          "name": "stdout",
          "text": [
            "\n",
            "Random Forest Results:\n",
            "              precision    recall  f1-score   support\n",
            "\n",
            "           0     0.9996    0.9999    0.9998     56651\n",
            "           1     0.9250    0.7789    0.8457        95\n",
            "\n",
            "    accuracy                         0.9995     56746\n",
            "   macro avg     0.9623    0.8894    0.9227     56746\n",
            "weighted avg     0.9995    0.9995    0.9995     56746\n",
            "\n",
            "AUPRC: 0.8226\n"
          ]
        }
      ]
    },
    {
      "cell_type": "code",
      "source": [
        "precision_lr, recall_lr, thres_lr = precision_recall_curve(y_test, y_scores_lr)\n",
        "f1_lr = 2 * (precision_lr * recall_lr) / (precision_lr + recall_lr + 1e-10)  # Avoid division by zero\n",
        "best_idx_lr = np.nanargmax(f1_lr)\n",
        "best_thres_lr = thres_lr[best_idx_lr] if best_idx_lr < len(thres_lr) else 0.5\n",
        "best_f1_lr = f1_lr[best_idx_lr]\n",
        "print(f\"\\nLogistic Regression best threshold = {best_thres_lr:.3f}, F1 = {best_f1_lr:.3f}\")"
      ],
      "metadata": {
        "colab": {
          "base_uri": "https://localhost:8080/"
        },
        "id": "n_UbNb3dpSU0",
        "outputId": "01bec762-ae40-41da-bc21-39bfe20a58c9"
      },
      "id": "n_UbNb3dpSU0",
      "execution_count": null,
      "outputs": [
        {
          "output_type": "stream",
          "name": "stdout",
          "text": [
            "\n",
            "Logistic Regression best threshold = 1.000, F1 = 0.804\n"
          ]
        }
      ]
    },
    {
      "cell_type": "code",
      "source": [
        "precision_dt, recall_dt, thres_dt = precision_recall_curve(y_test, y_scores_dt)\n",
        "f1_dt = 2 * (precision_dt * recall_dt) / (precision_dt + recall_dt + 1e-10)\n",
        "best_idx_dt = np.nanargmax(f1_dt)\n",
        "best_thres_dt = thres_dt[best_idx_dt] if best_idx_dt < len(thres_dt) else 0.5\n",
        "best_f1_dt = f1_dt[best_idx_dt]\n",
        "print(f\"Decision Tree best threshold = {best_thres_dt:.3f}, F1 = {best_f1_dt:.3f}\")"
      ],
      "metadata": {
        "colab": {
          "base_uri": "https://localhost:8080/"
        },
        "id": "bAOtnNbXpTrc",
        "outputId": "9c9dd116-48e8-4470-edd8-abc2e0ceea75"
      },
      "id": "bAOtnNbXpTrc",
      "execution_count": null,
      "outputs": [
        {
          "output_type": "stream",
          "name": "stdout",
          "text": [
            "Decision Tree best threshold = 1.000, F1 = 0.460\n"
          ]
        }
      ]
    },
    {
      "cell_type": "code",
      "source": [
        "precision_rf, recall_rf, thres_rf = precision_recall_curve(y_test, y_scores_rf)\n",
        "f1_rf = 2 * (precision_rf * recall_rf) / (precision_rf + recall_rf + 1e-10)\n",
        "best_idx_rf = np.nanargmax(f1_rf)\n",
        "best_thres_rf = thres_rf[best_idx_rf] if best_idx_rf < len(thres_rf) else 0.5\n",
        "best_f1_rf = f1_rf[best_idx_rf]\n",
        "print(f\"Random Forest best threshold = {best_thres_rf:.3f}, F1 = {best_f1_rf:.3f}\")"
      ],
      "metadata": {
        "colab": {
          "base_uri": "https://localhost:8080/"
        },
        "id": "tTUAB5nUpV1H",
        "outputId": "84152188-4f77-4786-8f6b-74c7f0c1b913"
      },
      "id": "tTUAB5nUpV1H",
      "execution_count": null,
      "outputs": [
        {
          "output_type": "stream",
          "name": "stdout",
          "text": [
            "Random Forest best threshold = 0.370, F1 = 0.851\n"
          ]
        }
      ]
    },
    {
      "cell_type": "code",
      "source": [
        "y_pred_lr_opt = (y_scores_lr >= best_thres_lr).astype(int)\n",
        "y_pred_dt_opt = (y_scores_dt >= best_thres_dt).astype(int)\n",
        "y_pred_rf_opt = (y_scores_rf >= best_thres_rf).astype(int)"
      ],
      "metadata": {
        "id": "oqIYPsAdpX-d"
      },
      "id": "oqIYPsAdpX-d",
      "execution_count": null,
      "outputs": []
    },
    {
      "cell_type": "code",
      "source": [
        "cm_lr = confusion_matrix(y_test, y_pred_lr_opt)\n",
        "cm_dt = confusion_matrix(y_test, y_pred_dt_opt)\n",
        "cm_rf = confusion_matrix(y_test, y_pred_rf_opt)"
      ],
      "metadata": {
        "id": "jDc309qUpZ5F"
      },
      "id": "jDc309qUpZ5F",
      "execution_count": null,
      "outputs": []
    },
    {
      "cell_type": "code",
      "source": [
        "fig, axes = plt.subplots(1, 3, figsize=(18, 5))\n",
        "\n",
        "sns.heatmap(cm_lr, annot=True, fmt='d', cmap='Blues',\n",
        "            xticklabels=['Non-Fraud', 'Fraud'],\n",
        "            yticklabels=['Non-Fraud', 'Fraud'], ax=axes[0])\n",
        "axes[0].set_ylabel('True Label')\n",
        "axes[0].set_xlabel('Predicted Label')\n",
        "axes[0].set_title('Logistic Regression\\nOptimized Threshold')\n",
        "\n",
        "sns.heatmap(cm_dt, annot=True, fmt='d', cmap='Greens',\n",
        "            xticklabels=['Non-Fraud', 'Fraud'],\n",
        "            yticklabels=['Non-Fraud', 'Fraud'], ax=axes[1])\n",
        "axes[1].set_ylabel('True Label')\n",
        "axes[1].set_xlabel('Predicted Label')\n",
        "axes[1].set_title('Decision Tree\\nOptimized Threshold')\n",
        "\n",
        "sns.heatmap(cm_rf, annot=True, fmt='d', cmap='Reds',\n",
        "            xticklabels=['Non-Fraud', 'Fraud'],\n",
        "            yticklabels=['Non-Fraud', 'Fraud'], ax=axes[2])\n",
        "axes[2].set_ylabel('True Label')\n",
        "axes[2].set_xlabel('Predicted Label')\n",
        "axes[2].set_title('Random Forest\\nOptimized Threshold')\n",
        "\n",
        "plt.tight_layout()\n",
        "plt.show()"
      ],
      "metadata": {
        "colab": {
          "base_uri": "https://localhost:8080/",
          "height": 430
        },
        "id": "9cFSLwqvpcNA",
        "outputId": "e0034883-b180-4830-c213-6d95d29aad45"
      },
      "id": "9cFSLwqvpcNA",
      "execution_count": null,
      "outputs": [
        {
          "output_type": "display_data",
          "data": {
            "text/plain": [
              "<Figure size 1800x500 with 6 Axes>"
            ],
            "image/png": "[encoded data removed]"
          },
          "metadata": {}
        }
      ]
    },
    {
      "cell_type": "code",
      "source": [
        "plt.figure(figsize=(10, 6))\n",
        "plt.plot(recall_lr, precision_lr, label=f'LogReg (AUPRC={average_precision_score(y_test, y_scores_lr):.3f})')\n",
        "plt.plot(recall_dt, precision_dt, label=f'DecTree (AUPRC={average_precision_score(y_test, y_scores_dt):.3f})')\n",
        "plt.plot(recall_rf, precision_rf, label=f'RandFor (AUPRC={average_precision_score(y_test, y_scores_rf):.3f})')\n",
        "plt.xlabel('Recall')\n",
        "plt.ylabel('Precision')\n",
        "plt.title('Precision-Recall Curves')\n",
        "plt.legend()\n",
        "plt.grid(True)\n",
        "plt.show()"
      ],
      "metadata": {
        "colab": {
          "base_uri": "https://localhost:8080/",
          "height": 564
        },
        "id": "7_Vym4_9poXF",
        "outputId": "2339c549-fea9-44ac-bed6-eba96e9918f0"
      },
      "id": "7_Vym4_9poXF",
      "execution_count": null,
      "outputs": [
        {
          "output_type": "display_data",
          "data": {
            "text/plain": [
              "<Figure size 1000x600 with 1 Axes>"
            ],
            "image/png": "[encoded data removed]"
          },
          "metadata": {}
        }
      ]
    },
    {
      "cell_type": "code",
      "source": [
        "results = {\n",
        "    \"Model\": [\"Logistic Regression\", \"Decision Tree\", \"Random Forest\"],\n",
        "    \"AUPRC\": [\n",
        "        average_precision_score(y_test, y_scores_lr),\n",
        "        average_precision_score(y_test, y_scores_dt),\n",
        "        average_precision_score(y_test, y_scores_rf),\n",
        "    ],\n",
        "    \"Best F1-Score\": [best_f1_lr, best_f1_dt, best_f1_rf],\n",
        "    \"Best Threshold\": [best_thres_lr, best_thres_dt, best_thres_rf],\n",
        "    \"True Positives\": [cm_lr[1, 1], cm_dt[1, 1], cm_rf[1, 1]],\n",
        "    \"False Positives\": [cm_lr[0, 1], cm_dt[0, 1], cm_rf[0, 1]],\n",
        "    \"False Negatives\": [cm_lr[1, 0], cm_dt[1, 0], cm_rf[1, 0]],\n",
        "    \"True Negatives\": [cm_lr[0, 0], cm_dt[0, 0], cm_rf[0, 0]],\n",
        "}\n",
        "\n",
        "summary_df = pd.DataFrame(results)\n",
        "print(\"\\nModel Performance Summary:\")\n",
        "print(summary_df.round(4))"
      ],
      "metadata": {
        "colab": {
          "base_uri": "https://localhost:8080/"
        },
        "id": "9nck0JCopyDs",
        "outputId": "ceb184ed-fc61-48c3-b090-c74edfb473a8"
      },
      "id": "9nck0JCopyDs",
      "execution_count": null,
      "outputs": [
        {
          "output_type": "stream",
          "name": "stdout",
          "text": [
            "\n",
            "Model Performance Summary:\n",
            "                 Model   AUPRC  Best F1-Score  Best Threshold  True Positives  \\\n",
            "0  Logistic Regression  0.6812         0.8045            1.00              72   \n",
            "1        Decision Tree  0.2362         0.4604            1.00              64   \n",
            "2        Random Forest  0.8226         0.8508            0.37              77   \n",
            "\n",
            "   False Positives  False Negatives  True Negatives  \n",
            "0               12               23           56639  \n",
            "1              119               31           56532  \n",
            "2                9               18           56642  \n"
          ]
        }
      ]
    },
    {
      "cell_type": "code",
      "source": [
        "summary_df.plot(\n",
        "    x=\"Model\",\n",
        "    y=[\"AUPRC\", \"Best F1-Score\"],\n",
        "    kind=\"bar\",\n",
        "    figsize=(8, 5),\n",
        "    title=\"Model Comparison\",\n",
        "    grid=True\n",
        ")\n",
        "plt.ylabel(\"Score\")\n",
        "plt.ylim(0, 1)\n",
        "plt.show()"
      ],
      "metadata": {
        "colab": {
          "base_uri": "https://localhost:8080/",
          "height": 606
        },
        "id": "w5dVawwdwxI0",
        "outputId": "a6cae3e0-43a8-488a-e7e3-f3b0ce0c7a1f"
      },
      "id": "w5dVawwdwxI0",
      "execution_count": null,
      "outputs": [
        {
          "output_type": "display_data",
          "data": {
            "text/plain": [
              "<Figure size 800x500 with 1 Axes>"
            ],
            "image/png": "[encoded data removed]"
          },
          "metadata": {}
        }
      ]
    },
    {
      "cell_type": "markdown",
      "id": "34d79c1d-8b1e-4932-ba69-249b16bf5da6",
      "metadata": {
        "id": "34d79c1d-8b1e-4932-ba69-249b16bf5da6"
      },
      "source": [
        "Sample Implementation Examples"
      ]
    },
    {
      "cell_type": "code",
      "execution_count": null,
      "id": "0d55a5fa-05ff-43b6-8c53-702bec7f9a59",
      "metadata": {
        "id": "0d55a5fa-05ff-43b6-8c53-702bec7f9a59",
        "outputId": "84d0d1fa-e89f-441f-c1b4-d2b232b5ae1b"
      },
      "outputs": [
        {
          "name": "stdout",
          "output_type": "stream",
          "text": [
            "---- Logistic Regression ----\n",
            "TP Samples\n"
          ]
        },
        {
          "data": {
            "text/html": [
              "<table border=\"1\" class=\"dataframe\">\n",
              "  <thead>\n",
              "    <tr style=\"text-align: right;\">\n",
              "      <th>Row</th>\n",
              "      <th>Score_LR</th>\n",
              "      <th>Pred_LR</th>\n",
              "      <th>Actual</th>\n",
              "      <th>Outcome</th>\n",
              "    </tr>\n",
              "  </thead>\n",
              "  <tbody>\n",
              "    <tr>\n",
              "      <td>198868</td>\n",
              "      <td>0.999929</td>\n",
              "      <td>1</td>\n",
              "      <td>1</td>\n",
              "      <td>TP</td>\n",
              "    </tr>\n",
              "    <tr>\n",
              "      <td>154454</td>\n",
              "      <td>1.000000</td>\n",
              "      <td>1</td>\n",
              "      <td>1</td>\n",
              "      <td>TP</td>\n",
              "    </tr>\n",
              "    <tr>\n",
              "      <td>144104</td>\n",
              "      <td>1.000000</td>\n",
              "      <td>1</td>\n",
              "      <td>1</td>\n",
              "      <td>TP</td>\n",
              "    </tr>\n",
              "  </tbody>\n",
              "</table>"
            ],
            "text/plain": [
              "<IPython.core.display.HTML object>"
            ]
          },
          "metadata": {},
          "output_type": "display_data"
        },
        {
          "name": "stdout",
          "output_type": "stream",
          "text": [
            "FN Samples\n"
          ]
        },
        {
          "data": {
            "text/html": [
              "<table border=\"1\" class=\"dataframe\">\n",
              "  <thead>\n",
              "    <tr style=\"text-align: right;\">\n",
              "      <th>Row</th>\n",
              "      <th>Score_LR</th>\n",
              "      <th>Pred_LR</th>\n",
              "      <th>Actual</th>\n",
              "      <th>Outcome</th>\n",
              "    </tr>\n",
              "  </thead>\n",
              "  <tbody>\n",
              "    <tr>\n",
              "      <td>101509</td>\n",
              "      <td>0.092127</td>\n",
              "      <td>0</td>\n",
              "      <td>1</td>\n",
              "      <td>FN</td>\n",
              "    </tr>\n",
              "    <tr>\n",
              "      <td>118308</td>\n",
              "      <td>0.265713</td>\n",
              "      <td>0</td>\n",
              "      <td>1</td>\n",
              "      <td>FN</td>\n",
              "    </tr>\n",
              "    <tr>\n",
              "      <td>100623</td>\n",
              "      <td>0.061700</td>\n",
              "      <td>0</td>\n",
              "      <td>1</td>\n",
              "      <td>FN</td>\n",
              "    </tr>\n",
              "  </tbody>\n",
              "</table>"
            ],
            "text/plain": [
              "<IPython.core.display.HTML object>"
            ]
          },
          "metadata": {},
          "output_type": "display_data"
        },
        {
          "name": "stdout",
          "output_type": "stream",
          "text": [
            "FP Samples\n"
          ]
        },
        {
          "data": {
            "text/html": [
              "<table border=\"1\" class=\"dataframe\">\n",
              "  <thead>\n",
              "    <tr style=\"text-align: right;\">\n",
              "      <th>Row</th>\n",
              "      <th>Score_LR</th>\n",
              "      <th>Pred_LR</th>\n",
              "      <th>Actual</th>\n",
              "      <th>Outcome</th>\n",
              "    </tr>\n",
              "  </thead>\n",
              "  <tbody>\n",
              "    <tr>\n",
              "      <td>68493</td>\n",
              "      <td>0.579358</td>\n",
              "      <td>1</td>\n",
              "      <td>0</td>\n",
              "      <td>FP</td>\n",
              "    </tr>\n",
              "    <tr>\n",
              "      <td>169679</td>\n",
              "      <td>0.619275</td>\n",
              "      <td>1</td>\n",
              "      <td>0</td>\n",
              "      <td>FP</td>\n",
              "    </tr>\n",
              "    <tr>\n",
              "      <td>8555</td>\n",
              "      <td>0.576498</td>\n",
              "      <td>1</td>\n",
              "      <td>0</td>\n",
              "      <td>FP</td>\n",
              "    </tr>\n",
              "  </tbody>\n",
              "</table>"
            ],
            "text/plain": [
              "<IPython.core.display.HTML object>"
            ]
          },
          "metadata": {},
          "output_type": "display_data"
        },
        {
          "name": "stdout",
          "output_type": "stream",
          "text": [
            "------- Decision Tree -------\n",
            "TP Samples\n"
          ]
        },
        {
          "data": {
            "text/html": [
              "<table border=\"1\" class=\"dataframe\">\n",
              "  <thead>\n",
              "    <tr style=\"text-align: right;\">\n",
              "      <th>Row</th>\n",
              "      <th>Score_DT</th>\n",
              "      <th>Pred_DT</th>\n",
              "      <th>Actual</th>\n",
              "      <th>Outcome</th>\n",
              "    </tr>\n",
              "  </thead>\n",
              "  <tbody>\n",
              "    <tr>\n",
              "      <td>198868</td>\n",
              "      <td>1.0</td>\n",
              "      <td>1</td>\n",
              "      <td>1</td>\n",
              "      <td>TP</td>\n",
              "    </tr>\n",
              "    <tr>\n",
              "      <td>154454</td>\n",
              "      <td>1.0</td>\n",
              "      <td>1</td>\n",
              "      <td>1</td>\n",
              "      <td>TP</td>\n",
              "    </tr>\n",
              "    <tr>\n",
              "      <td>101509</td>\n",
              "      <td>1.0</td>\n",
              "      <td>1</td>\n",
              "      <td>1</td>\n",
              "      <td>TP</td>\n",
              "    </tr>\n",
              "  </tbody>\n",
              "</table>"
            ],
            "text/plain": [
              "<IPython.core.display.HTML object>"
            ]
          },
          "metadata": {},
          "output_type": "display_data"
        },
        {
          "name": "stdout",
          "output_type": "stream",
          "text": [
            "FN Samples\n"
          ]
        },
        {
          "data": {
            "text/html": [
              "<table border=\"1\" class=\"dataframe\">\n",
              "  <thead>\n",
              "    <tr style=\"text-align: right;\">\n",
              "      <th>Row</th>\n",
              "      <th>Score_DT</th>\n",
              "      <th>Pred_DT</th>\n",
              "      <th>Actual</th>\n",
              "      <th>Outcome</th>\n",
              "    </tr>\n",
              "  </thead>\n",
              "  <tbody>\n",
              "  </tbody>\n",
              "</table>"
            ],
            "text/plain": [
              "<IPython.core.display.HTML object>"
            ]
          },
          "metadata": {},
          "output_type": "display_data"
        },
        {
          "name": "stdout",
          "output_type": "stream",
          "text": [
            "FP Samples\n"
          ]
        },
        {
          "data": {
            "text/html": [
              "<table border=\"1\" class=\"dataframe\">\n",
              "  <thead>\n",
              "    <tr style=\"text-align: right;\">\n",
              "      <th>Row</th>\n",
              "      <th>Score_DT</th>\n",
              "      <th>Pred_DT</th>\n",
              "      <th>Actual</th>\n",
              "      <th>Outcome</th>\n",
              "    </tr>\n",
              "  </thead>\n",
              "  <tbody>\n",
              "    <tr>\n",
              "      <td>154466</td>\n",
              "      <td>1.0</td>\n",
              "      <td>1</td>\n",
              "      <td>0</td>\n",
              "      <td>FP</td>\n",
              "    </tr>\n",
              "    <tr>\n",
              "      <td>242378</td>\n",
              "      <td>1.0</td>\n",
              "      <td>1</td>\n",
              "      <td>0</td>\n",
              "      <td>FP</td>\n",
              "    </tr>\n",
              "    <tr>\n",
              "      <td>201509</td>\n",
              "      <td>1.0</td>\n",
              "      <td>1</td>\n",
              "      <td>0</td>\n",
              "      <td>FP</td>\n",
              "    </tr>\n",
              "  </tbody>\n",
              "</table>"
            ],
            "text/plain": [
              "<IPython.core.display.HTML object>"
            ]
          },
          "metadata": {},
          "output_type": "display_data"
        },
        {
          "name": "stdout",
          "output_type": "stream",
          "text": [
            "------- Random Forest -------\n",
            "TP Samples\n"
          ]
        },
        {
          "data": {
            "text/html": [
              "<table border=\"1\" class=\"dataframe\">\n",
              "  <thead>\n",
              "    <tr style=\"text-align: right;\">\n",
              "      <th>Row</th>\n",
              "      <th>Score_RF</th>\n",
              "      <th>Pred_RF</th>\n",
              "      <th>Actual</th>\n",
              "      <th>Outcome</th>\n",
              "    </tr>\n",
              "  </thead>\n",
              "  <tbody>\n",
              "    <tr>\n",
              "      <td>198868</td>\n",
              "      <td>0.945685</td>\n",
              "      <td>1</td>\n",
              "      <td>1</td>\n",
              "      <td>TP</td>\n",
              "    </tr>\n",
              "    <tr>\n",
              "      <td>154454</td>\n",
              "      <td>0.999609</td>\n",
              "      <td>1</td>\n",
              "      <td>1</td>\n",
              "      <td>TP</td>\n",
              "    </tr>\n",
              "    <tr>\n",
              "      <td>101509</td>\n",
              "      <td>0.523766</td>\n",
              "      <td>1</td>\n",
              "      <td>1</td>\n",
              "      <td>TP</td>\n",
              "    </tr>\n",
              "  </tbody>\n",
              "</table>"
            ],
            "text/plain": [
              "<IPython.core.display.HTML object>"
            ]
          },
          "metadata": {},
          "output_type": "display_data"
        },
        {
          "name": "stdout",
          "output_type": "stream",
          "text": [
            "FN Samples\n"
          ]
        },
        {
          "data": {
            "text/html": [
              "<table border=\"1\" class=\"dataframe\">\n",
              "  <thead>\n",
              "    <tr style=\"text-align: right;\">\n",
              "      <th>Row</th>\n",
              "      <th>Score_RF</th>\n",
              "      <th>Pred_RF</th>\n",
              "      <th>Actual</th>\n",
              "      <th>Outcome</th>\n",
              "    </tr>\n",
              "  </thead>\n",
              "  <tbody>\n",
              "    <tr>\n",
              "      <td>68633</td>\n",
              "      <td>0.109895</td>\n",
              "      <td>0</td>\n",
              "      <td>1</td>\n",
              "      <td>FN</td>\n",
              "    </tr>\n",
              "    <tr>\n",
              "      <td>95534</td>\n",
              "      <td>0.141505</td>\n",
              "      <td>0</td>\n",
              "      <td>1</td>\n",
              "      <td>FN</td>\n",
              "    </tr>\n",
              "    <tr>\n",
              "      <td>95534</td>\n",
              "      <td>0.141505</td>\n",
              "      <td>0</td>\n",
              "      <td>1</td>\n",
              "      <td>FN</td>\n",
              "    </tr>\n",
              "  </tbody>\n",
              "</table>"
            ],
            "text/plain": [
              "<IPython.core.display.HTML object>"
            ]
          },
          "metadata": {},
          "output_type": "display_data"
        },
        {
          "name": "stdout",
          "output_type": "stream",
          "text": [
            "FP Samples\n"
          ]
        },
        {
          "data": {
            "text/html": [
              "<table border=\"1\" class=\"dataframe\">\n",
              "  <thead>\n",
              "    <tr style=\"text-align: right;\">\n",
              "      <th>Row</th>\n",
              "      <th>Score_RF</th>\n",
              "      <th>Pred_RF</th>\n",
              "      <th>Actual</th>\n",
              "      <th>Outcome</th>\n",
              "    </tr>\n",
              "  </thead>\n",
              "  <tbody>\n",
              "    <tr>\n",
              "      <td>272754</td>\n",
              "      <td>0.248024</td>\n",
              "      <td>1</td>\n",
              "      <td>0</td>\n",
              "      <td>FP</td>\n",
              "    </tr>\n",
              "    <tr>\n",
              "      <td>18066</td>\n",
              "      <td>0.182951</td>\n",
              "      <td>1</td>\n",
              "      <td>0</td>\n",
              "      <td>FP</td>\n",
              "    </tr>\n",
              "    <tr>\n",
              "      <td>181246</td>\n",
              "      <td>0.182263</td>\n",
              "      <td>1</td>\n",
              "      <td>0</td>\n",
              "      <td>FP</td>\n",
              "    </tr>\n",
              "  </tbody>\n",
              "</table>"
            ],
            "text/plain": [
              "<IPython.core.display.HTML object>"
            ]
          },
          "metadata": {},
          "output_type": "display_data"
        }
      ],
      "source": [
        "from IPython.display import HTML\n",
        "choices = ['TP','FP','FN']\n",
        "#Logistic Regression\n",
        "results_lr = pd.DataFrame({\n",
        "    'Row':      X_test.index,\n",
        "    'Score_LR': y_scores_lr,\n",
        "    'Pred_LR':  y_pred_lr,\n",
        "    'Actual':   y_test.values\n",
        "})\n",
        "conds_lr = [\n",
        "    #TP\n",
        "    (results_lr['Actual'] == 1) & (results_lr['Pred_LR'] == 1),\n",
        "    #FP\n",
        "    (results_lr['Actual'] == 0) & (results_lr['Pred_LR'] == 1),\n",
        "    #FN\n",
        "    (results_lr['Actual'] == 1) & (results_lr['Pred_LR'] == 0)\n",
        "]\n",
        "results_lr['Outcome'] = np.select(conds_lr, choices, default='TN')\n",
        "print(\"---- Logistic Regression ----\")\n",
        "for out in ['TP','FN','FP']:\n",
        "    print(f\"{out} Samples\")\n",
        "    subset = (\n",
        "        results_lr[results_lr['Outcome'] == out]\n",
        "          .loc[:, ['Row','Score_LR','Pred_LR','Actual','Outcome']]\n",
        "          .head(3)\n",
        "    )\n",
        "    display(HTML(subset.to_html(index=False)))\n",
        "\n",
        "#Decision Tree\n",
        "results_dt = pd.DataFrame({\n",
        "    'Row':      X_test.index,\n",
        "    'Score_DT': y_scores_dt,\n",
        "    'Pred_DT':  y_pred_dt,\n",
        "    'Actual':   y_test.values\n",
        "})\n",
        "conds_dt = [\n",
        "    #TP\n",
        "    (results_dt['Actual'] == 1)&(results_dt['Pred_DT'] == 1),\n",
        "    #FP\n",
        "    (results_dt['Actual'] == 0)&(results_dt['Pred_DT'] == 1),\n",
        "    #FN\n",
        "    (results_dt['Actual'] == 1)&(results_dt['Pred_DT'] == 0)\n",
        "]\n",
        "results_dt['Outcome'] = np.select(conds_dt, choices, default='TN')\n",
        "print(\"------- Decision Tree -------\")\n",
        "for out in ['TP','FN','FP']:\n",
        "    print(f\"{out} Samples\")\n",
        "    subset = (\n",
        "        results_dt[results_dt['Outcome'] == out]\n",
        "          .loc[:, ['Row','Score_DT','Pred_DT','Actual','Outcome']]\n",
        "          .head(3)\n",
        "    )\n",
        "    display(HTML(subset.to_html(index=False)))\n",
        "\n",
        "#Random Forest\n",
        "results_rf = pd.DataFrame({\n",
        "    'Row':      X_test.index,\n",
        "    'Score_RF': y_scores_rf,\n",
        "    'Pred_RF':  y_pred_rf,\n",
        "    'Actual':   y_test.values\n",
        "})\n",
        "conds_rf = [\n",
        "    #TP\n",
        "    (results_rf['Actual'] == 1)&(results_rf['Pred_RF'] == 1),\n",
        "    #FP\n",
        "    (results_rf['Actual'] == 0)&(results_rf['Pred_RF'] == 1),\n",
        "    #FN\n",
        "    (results_rf['Actual'] == 1)&(results_rf['Pred_RF'] == 0)\n",
        "]\n",
        "results_rf['Outcome'] = np.select(conds_rf, choices, default='TN')\n",
        "print(\"------- Random Forest -------\")\n",
        "for out in ['TP','FN','FP']:\n",
        "    print(f\"{out} Samples\")\n",
        "    subset = (\n",
        "        results_rf[results_rf['Outcome'] == out]\n",
        "          .loc[:, ['Row','Score_RF','Pred_RF','Actual','Outcome']]\n",
        "          .head(3)\n",
        "    )\n",
        "    display(HTML(subset.to_html(index=False)))"
      ]
    }
  ],
  "metadata": {
    "kernelspec": {
      "display_name": "Python 3 (ipykernel)",
      "language": "python",
      "name": "python3"
    },
    "language_info": {
      "codemirror_mode": {
        "name": "ipython",
        "version": 3
      },
      "file_extension": ".py",
      "mimetype": "text/x-python",
      "name": "python",
      "nbconvert_exporter": "python",
      "pygments_lexer": "ipython3",
      "version": "3.12.4"
    },
    "colab": {
      "provenance": []
    }
  },
  "nbformat": 4,
  "nbformat_minor": 5
}